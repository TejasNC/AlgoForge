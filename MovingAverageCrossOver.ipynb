{
 "cells": [
  {
   "cell_type": "markdown",
   "metadata": {},
   "source": [
    "# Testing the MA CrossOver Strategy"
   ]
  },
  {
   "cell_type": "markdown",
   "metadata": {},
   "source": [
    "# Preparing Dataset"
   ]
  },
  {
   "cell_type": "code",
   "execution_count": 2,
   "metadata": {},
   "outputs": [
    {
     "name": "stderr",
     "output_type": "stream",
     "text": [
      "c:\\Users\\tejas\\anaconda3\\Lib\\site-packages\\backtesting\\test\\__init__.py:8: FutureWarning: The argument 'infer_datetime_format' is deprecated and will be removed in a future version. A strict version of it is now the default, see https://pandas.pydata.org/pdeps/0004-consistent-to-datetime-parsing.html. You can safely remove this argument.\n",
      "  return pd.read_csv(join(dirname(__file__), filename),\n",
      "c:\\Users\\tejas\\anaconda3\\Lib\\site-packages\\backtesting\\test\\__init__.py:8: FutureWarning: The argument 'infer_datetime_format' is deprecated and will be removed in a future version. A strict version of it is now the default, see https://pandas.pydata.org/pdeps/0004-consistent-to-datetime-parsing.html. You can safely remove this argument.\n",
      "  return pd.read_csv(join(dirname(__file__), filename),\n"
     ]
    }
   ],
   "source": [
    "from backtesting import Backtest, Strategy\n",
    "from backtesting.lib import crossover\n",
    "from backtesting.test import SMA, GOOG\n",
    "import talib\n",
    "import pandas as pd"
   ]
  },
  {
   "cell_type": "code",
   "execution_count": 3,
   "metadata": {},
   "outputs": [],
   "source": [
    "data = pd.read_excel('Index_NIFTY_100.xlsx')\n",
    "data.index = data['Date']\n",
    "data = data.drop(['Date'], axis=1)"
   ]
  },
  {
   "cell_type": "code",
   "execution_count": 4,
   "metadata": {},
   "outputs": [
    {
     "name": "stdout",
     "output_type": "stream",
     "text": [
      "<class 'pandas.core.frame.DataFrame'>\n",
      "DatetimeIndex: 2668 entries, 2010-01-04 to 2020-10-01\n",
      "Data columns (total 6 columns):\n",
      " #   Column    Non-Null Count  Dtype  \n",
      "---  ------    --------------  -----  \n",
      " 0   Open      2668 non-null   float64\n",
      " 1   High      2668 non-null   float64\n",
      " 2   Low       2668 non-null   float64\n",
      " 3   Close     2668 non-null   float64\n",
      " 4   Volume    2660 non-null   float64\n",
      " 5   Turnover  2660 non-null   float64\n",
      "dtypes: float64(6)\n",
      "memory usage: 145.9 KB\n"
     ]
    }
   ],
   "source": [
    "data.info()"
   ]
  },
  {
   "cell_type": "code",
   "execution_count": 5,
   "metadata": {},
   "outputs": [
    {
     "data": {
      "text/html": [
       "<div>\n",
       "<style scoped>\n",
       "    .dataframe tbody tr th:only-of-type {\n",
       "        vertical-align: middle;\n",
       "    }\n",
       "\n",
       "    .dataframe tbody tr th {\n",
       "        vertical-align: top;\n",
       "    }\n",
       "\n",
       "    .dataframe thead th {\n",
       "        text-align: right;\n",
       "    }\n",
       "</style>\n",
       "<table border=\"1\" class=\"dataframe\">\n",
       "  <thead>\n",
       "    <tr style=\"text-align: right;\">\n",
       "      <th></th>\n",
       "      <th>Open</th>\n",
       "      <th>High</th>\n",
       "      <th>Low</th>\n",
       "      <th>Close</th>\n",
       "      <th>Volume</th>\n",
       "      <th>Turnover</th>\n",
       "    </tr>\n",
       "    <tr>\n",
       "      <th>Date</th>\n",
       "      <th></th>\n",
       "      <th></th>\n",
       "      <th></th>\n",
       "      <th></th>\n",
       "      <th></th>\n",
       "      <th></th>\n",
       "    </tr>\n",
       "  </thead>\n",
       "  <tbody>\n",
       "    <tr>\n",
       "      <th>2010-01-04</th>\n",
       "      <td>5098.50</td>\n",
       "      <td>5158.05</td>\n",
       "      <td>5098.50</td>\n",
       "      <td>5153.55</td>\n",
       "      <td>243435693.0</td>\n",
       "      <td>8.148140e+10</td>\n",
       "    </tr>\n",
       "    <tr>\n",
       "      <th>2010-01-05</th>\n",
       "      <td>5188.55</td>\n",
       "      <td>5211.35</td>\n",
       "      <td>5182.10</td>\n",
       "      <td>5203.80</td>\n",
       "      <td>375683162.0</td>\n",
       "      <td>1.056156e+11</td>\n",
       "    </tr>\n",
       "    <tr>\n",
       "      <th>2010-01-06</th>\n",
       "      <td>5221.65</td>\n",
       "      <td>5228.25</td>\n",
       "      <td>5191.10</td>\n",
       "      <td>5214.00</td>\n",
       "      <td>329435534.0</td>\n",
       "      <td>1.049670e+11</td>\n",
       "    </tr>\n",
       "    <tr>\n",
       "      <th>2010-01-07</th>\n",
       "      <td>5213.45</td>\n",
       "      <td>5229.50</td>\n",
       "      <td>5175.95</td>\n",
       "      <td>5191.70</td>\n",
       "      <td>285387018.0</td>\n",
       "      <td>8.927550e+10</td>\n",
       "    </tr>\n",
       "    <tr>\n",
       "      <th>2010-01-08</th>\n",
       "      <td>5193.45</td>\n",
       "      <td>5206.50</td>\n",
       "      <td>5165.85</td>\n",
       "      <td>5175.75</td>\n",
       "      <td>315212250.0</td>\n",
       "      <td>9.858210e+10</td>\n",
       "    </tr>\n",
       "  </tbody>\n",
       "</table>\n",
       "</div>"
      ],
      "text/plain": [
       "               Open     High      Low    Close       Volume      Turnover\n",
       "Date                                                                     \n",
       "2010-01-04  5098.50  5158.05  5098.50  5153.55  243435693.0  8.148140e+10\n",
       "2010-01-05  5188.55  5211.35  5182.10  5203.80  375683162.0  1.056156e+11\n",
       "2010-01-06  5221.65  5228.25  5191.10  5214.00  329435534.0  1.049670e+11\n",
       "2010-01-07  5213.45  5229.50  5175.95  5191.70  285387018.0  8.927550e+10\n",
       "2010-01-08  5193.45  5206.50  5165.85  5175.75  315212250.0  9.858210e+10"
      ]
     },
     "execution_count": 5,
     "metadata": {},
     "output_type": "execute_result"
    }
   ],
   "source": [
    "data.head(5)"
   ]
  },
  {
   "cell_type": "code",
   "execution_count": 6,
   "metadata": {},
   "outputs": [
    {
     "data": {
      "text/html": [
       "<div>\n",
       "<style scoped>\n",
       "    .dataframe tbody tr th:only-of-type {\n",
       "        vertical-align: middle;\n",
       "    }\n",
       "\n",
       "    .dataframe tbody tr th {\n",
       "        vertical-align: top;\n",
       "    }\n",
       "\n",
       "    .dataframe thead th {\n",
       "        text-align: right;\n",
       "    }\n",
       "</style>\n",
       "<table border=\"1\" class=\"dataframe\">\n",
       "  <thead>\n",
       "    <tr style=\"text-align: right;\">\n",
       "      <th></th>\n",
       "      <th>Open</th>\n",
       "      <th>High</th>\n",
       "      <th>Low</th>\n",
       "      <th>Close</th>\n",
       "      <th>Volume</th>\n",
       "      <th>Turnover</th>\n",
       "    </tr>\n",
       "    <tr>\n",
       "      <th>Date</th>\n",
       "      <th></th>\n",
       "      <th></th>\n",
       "      <th></th>\n",
       "      <th></th>\n",
       "      <th></th>\n",
       "      <th></th>\n",
       "    </tr>\n",
       "  </thead>\n",
       "  <tbody>\n",
       "    <tr>\n",
       "      <th>2020-09-25</th>\n",
       "      <td>11029.50</td>\n",
       "      <td>11198.10</td>\n",
       "      <td>10974.90</td>\n",
       "      <td>11176.30</td>\n",
       "      <td>756633008.0</td>\n",
       "      <td>3.712119e+11</td>\n",
       "    </tr>\n",
       "    <tr>\n",
       "      <th>2020-09-28</th>\n",
       "      <td>11270.55</td>\n",
       "      <td>11375.45</td>\n",
       "      <td>11233.55</td>\n",
       "      <td>11365.25</td>\n",
       "      <td>623662120.0</td>\n",
       "      <td>2.959780e+11</td>\n",
       "    </tr>\n",
       "    <tr>\n",
       "      <th>2020-09-29</th>\n",
       "      <td>11429.40</td>\n",
       "      <td>11449.45</td>\n",
       "      <td>11314.45</td>\n",
       "      <td>11353.65</td>\n",
       "      <td>685046809.0</td>\n",
       "      <td>3.301547e+11</td>\n",
       "    </tr>\n",
       "    <tr>\n",
       "      <th>2020-09-30</th>\n",
       "      <td>11380.20</td>\n",
       "      <td>11431.65</td>\n",
       "      <td>11320.00</td>\n",
       "      <td>11385.20</td>\n",
       "      <td>690244326.0</td>\n",
       "      <td>3.451614e+11</td>\n",
       "    </tr>\n",
       "    <tr>\n",
       "      <th>2020-10-01</th>\n",
       "      <td>11499.65</td>\n",
       "      <td>11557.40</td>\n",
       "      <td>11484.25</td>\n",
       "      <td>11545.90</td>\n",
       "      <td>640143018.0</td>\n",
       "      <td>3.147881e+11</td>\n",
       "    </tr>\n",
       "  </tbody>\n",
       "</table>\n",
       "</div>"
      ],
      "text/plain": [
       "                Open      High       Low     Close       Volume      Turnover\n",
       "Date                                                                         \n",
       "2020-09-25  11029.50  11198.10  10974.90  11176.30  756633008.0  3.712119e+11\n",
       "2020-09-28  11270.55  11375.45  11233.55  11365.25  623662120.0  2.959780e+11\n",
       "2020-09-29  11429.40  11449.45  11314.45  11353.65  685046809.0  3.301547e+11\n",
       "2020-09-30  11380.20  11431.65  11320.00  11385.20  690244326.0  3.451614e+11\n",
       "2020-10-01  11499.65  11557.40  11484.25  11545.90  640143018.0  3.147881e+11"
      ]
     },
     "execution_count": 6,
     "metadata": {},
     "output_type": "execute_result"
    }
   ],
   "source": [
    "data.tail(5)"
   ]
  },
  {
   "cell_type": "code",
   "execution_count": 7,
   "metadata": {},
   "outputs": [
    {
     "data": {
      "text/html": [
       "<div>\n",
       "<style scoped>\n",
       "    .dataframe tbody tr th:only-of-type {\n",
       "        vertical-align: middle;\n",
       "    }\n",
       "\n",
       "    .dataframe tbody tr th {\n",
       "        vertical-align: top;\n",
       "    }\n",
       "\n",
       "    .dataframe thead th {\n",
       "        text-align: right;\n",
       "    }\n",
       "</style>\n",
       "<table border=\"1\" class=\"dataframe\">\n",
       "  <thead>\n",
       "    <tr style=\"text-align: right;\">\n",
       "      <th></th>\n",
       "      <th>Open</th>\n",
       "      <th>High</th>\n",
       "      <th>Low</th>\n",
       "      <th>Close</th>\n",
       "      <th>Volume</th>\n",
       "      <th>Turnover</th>\n",
       "    </tr>\n",
       "    <tr>\n",
       "      <th>Date</th>\n",
       "      <th></th>\n",
       "      <th></th>\n",
       "      <th></th>\n",
       "      <th></th>\n",
       "      <th></th>\n",
       "      <th></th>\n",
       "    </tr>\n",
       "  </thead>\n",
       "  <tbody>\n",
       "    <tr>\n",
       "      <th>2010-01-04</th>\n",
       "      <td>True</td>\n",
       "      <td>True</td>\n",
       "      <td>True</td>\n",
       "      <td>True</td>\n",
       "      <td>True</td>\n",
       "      <td>True</td>\n",
       "    </tr>\n",
       "    <tr>\n",
       "      <th>2010-01-05</th>\n",
       "      <td>True</td>\n",
       "      <td>True</td>\n",
       "      <td>True</td>\n",
       "      <td>True</td>\n",
       "      <td>True</td>\n",
       "      <td>True</td>\n",
       "    </tr>\n",
       "    <tr>\n",
       "      <th>2010-01-06</th>\n",
       "      <td>True</td>\n",
       "      <td>True</td>\n",
       "      <td>True</td>\n",
       "      <td>True</td>\n",
       "      <td>True</td>\n",
       "      <td>True</td>\n",
       "    </tr>\n",
       "    <tr>\n",
       "      <th>2010-01-07</th>\n",
       "      <td>True</td>\n",
       "      <td>True</td>\n",
       "      <td>True</td>\n",
       "      <td>True</td>\n",
       "      <td>True</td>\n",
       "      <td>True</td>\n",
       "    </tr>\n",
       "    <tr>\n",
       "      <th>2010-01-08</th>\n",
       "      <td>True</td>\n",
       "      <td>True</td>\n",
       "      <td>True</td>\n",
       "      <td>True</td>\n",
       "      <td>True</td>\n",
       "      <td>True</td>\n",
       "    </tr>\n",
       "    <tr>\n",
       "      <th>...</th>\n",
       "      <td>...</td>\n",
       "      <td>...</td>\n",
       "      <td>...</td>\n",
       "      <td>...</td>\n",
       "      <td>...</td>\n",
       "      <td>...</td>\n",
       "    </tr>\n",
       "    <tr>\n",
       "      <th>2020-09-25</th>\n",
       "      <td>True</td>\n",
       "      <td>True</td>\n",
       "      <td>True</td>\n",
       "      <td>True</td>\n",
       "      <td>True</td>\n",
       "      <td>True</td>\n",
       "    </tr>\n",
       "    <tr>\n",
       "      <th>2020-09-28</th>\n",
       "      <td>True</td>\n",
       "      <td>True</td>\n",
       "      <td>True</td>\n",
       "      <td>True</td>\n",
       "      <td>True</td>\n",
       "      <td>True</td>\n",
       "    </tr>\n",
       "    <tr>\n",
       "      <th>2020-09-29</th>\n",
       "      <td>True</td>\n",
       "      <td>True</td>\n",
       "      <td>True</td>\n",
       "      <td>True</td>\n",
       "      <td>True</td>\n",
       "      <td>True</td>\n",
       "    </tr>\n",
       "    <tr>\n",
       "      <th>2020-09-30</th>\n",
       "      <td>True</td>\n",
       "      <td>True</td>\n",
       "      <td>True</td>\n",
       "      <td>True</td>\n",
       "      <td>True</td>\n",
       "      <td>True</td>\n",
       "    </tr>\n",
       "    <tr>\n",
       "      <th>2020-10-01</th>\n",
       "      <td>True</td>\n",
       "      <td>True</td>\n",
       "      <td>True</td>\n",
       "      <td>True</td>\n",
       "      <td>True</td>\n",
       "      <td>True</td>\n",
       "    </tr>\n",
       "  </tbody>\n",
       "</table>\n",
       "<p>2668 rows × 6 columns</p>\n",
       "</div>"
      ],
      "text/plain": [
       "            Open  High   Low  Close  Volume  Turnover\n",
       "Date                                                 \n",
       "2010-01-04  True  True  True   True    True      True\n",
       "2010-01-05  True  True  True   True    True      True\n",
       "2010-01-06  True  True  True   True    True      True\n",
       "2010-01-07  True  True  True   True    True      True\n",
       "2010-01-08  True  True  True   True    True      True\n",
       "...          ...   ...   ...    ...     ...       ...\n",
       "2020-09-25  True  True  True   True    True      True\n",
       "2020-09-28  True  True  True   True    True      True\n",
       "2020-09-29  True  True  True   True    True      True\n",
       "2020-09-30  True  True  True   True    True      True\n",
       "2020-10-01  True  True  True   True    True      True\n",
       "\n",
       "[2668 rows x 6 columns]"
      ]
     },
     "execution_count": 7,
     "metadata": {},
     "output_type": "execute_result"
    }
   ],
   "source": [
    "data.notna()"
   ]
  },
  {
   "cell_type": "code",
   "execution_count": 8,
   "metadata": {},
   "outputs": [
    {
     "data": {
      "text/html": [
       "<div>\n",
       "<style scoped>\n",
       "    .dataframe tbody tr th:only-of-type {\n",
       "        vertical-align: middle;\n",
       "    }\n",
       "\n",
       "    .dataframe tbody tr th {\n",
       "        vertical-align: top;\n",
       "    }\n",
       "\n",
       "    .dataframe thead th {\n",
       "        text-align: right;\n",
       "    }\n",
       "</style>\n",
       "<table border=\"1\" class=\"dataframe\">\n",
       "  <thead>\n",
       "    <tr style=\"text-align: right;\">\n",
       "      <th></th>\n",
       "      <th>Open</th>\n",
       "      <th>High</th>\n",
       "      <th>Low</th>\n",
       "      <th>Close</th>\n",
       "      <th>Volume</th>\n",
       "      <th>Turnover</th>\n",
       "    </tr>\n",
       "    <tr>\n",
       "      <th>Date</th>\n",
       "      <th></th>\n",
       "      <th></th>\n",
       "      <th></th>\n",
       "      <th></th>\n",
       "      <th></th>\n",
       "      <th></th>\n",
       "    </tr>\n",
       "  </thead>\n",
       "  <tbody>\n",
       "    <tr>\n",
       "      <th>2010-01-04</th>\n",
       "      <td>5098.50</td>\n",
       "      <td>5158.05</td>\n",
       "      <td>5098.50</td>\n",
       "      <td>5153.55</td>\n",
       "      <td>243435693.0</td>\n",
       "      <td>8.148140e+10</td>\n",
       "    </tr>\n",
       "    <tr>\n",
       "      <th>2010-01-05</th>\n",
       "      <td>5188.55</td>\n",
       "      <td>5211.35</td>\n",
       "      <td>5182.10</td>\n",
       "      <td>5203.80</td>\n",
       "      <td>375683162.0</td>\n",
       "      <td>1.056156e+11</td>\n",
       "    </tr>\n",
       "    <tr>\n",
       "      <th>2010-01-06</th>\n",
       "      <td>5221.65</td>\n",
       "      <td>5228.25</td>\n",
       "      <td>5191.10</td>\n",
       "      <td>5214.00</td>\n",
       "      <td>329435534.0</td>\n",
       "      <td>1.049670e+11</td>\n",
       "    </tr>\n",
       "    <tr>\n",
       "      <th>2010-01-07</th>\n",
       "      <td>5213.45</td>\n",
       "      <td>5229.50</td>\n",
       "      <td>5175.95</td>\n",
       "      <td>5191.70</td>\n",
       "      <td>285387018.0</td>\n",
       "      <td>8.927550e+10</td>\n",
       "    </tr>\n",
       "    <tr>\n",
       "      <th>2010-01-08</th>\n",
       "      <td>5193.45</td>\n",
       "      <td>5206.50</td>\n",
       "      <td>5165.85</td>\n",
       "      <td>5175.75</td>\n",
       "      <td>315212250.0</td>\n",
       "      <td>9.858210e+10</td>\n",
       "    </tr>\n",
       "    <tr>\n",
       "      <th>...</th>\n",
       "      <td>...</td>\n",
       "      <td>...</td>\n",
       "      <td>...</td>\n",
       "      <td>...</td>\n",
       "      <td>...</td>\n",
       "      <td>...</td>\n",
       "    </tr>\n",
       "    <tr>\n",
       "      <th>2020-09-25</th>\n",
       "      <td>11029.50</td>\n",
       "      <td>11198.10</td>\n",
       "      <td>10974.90</td>\n",
       "      <td>11176.30</td>\n",
       "      <td>756633008.0</td>\n",
       "      <td>3.712119e+11</td>\n",
       "    </tr>\n",
       "    <tr>\n",
       "      <th>2020-09-28</th>\n",
       "      <td>11270.55</td>\n",
       "      <td>11375.45</td>\n",
       "      <td>11233.55</td>\n",
       "      <td>11365.25</td>\n",
       "      <td>623662120.0</td>\n",
       "      <td>2.959780e+11</td>\n",
       "    </tr>\n",
       "    <tr>\n",
       "      <th>2020-09-29</th>\n",
       "      <td>11429.40</td>\n",
       "      <td>11449.45</td>\n",
       "      <td>11314.45</td>\n",
       "      <td>11353.65</td>\n",
       "      <td>685046809.0</td>\n",
       "      <td>3.301547e+11</td>\n",
       "    </tr>\n",
       "    <tr>\n",
       "      <th>2020-09-30</th>\n",
       "      <td>11380.20</td>\n",
       "      <td>11431.65</td>\n",
       "      <td>11320.00</td>\n",
       "      <td>11385.20</td>\n",
       "      <td>690244326.0</td>\n",
       "      <td>3.451614e+11</td>\n",
       "    </tr>\n",
       "    <tr>\n",
       "      <th>2020-10-01</th>\n",
       "      <td>11499.65</td>\n",
       "      <td>11557.40</td>\n",
       "      <td>11484.25</td>\n",
       "      <td>11545.90</td>\n",
       "      <td>640143018.0</td>\n",
       "      <td>3.147881e+11</td>\n",
       "    </tr>\n",
       "  </tbody>\n",
       "</table>\n",
       "<p>2660 rows × 6 columns</p>\n",
       "</div>"
      ],
      "text/plain": [
       "                Open      High       Low     Close       Volume      Turnover\n",
       "Date                                                                         \n",
       "2010-01-04   5098.50   5158.05   5098.50   5153.55  243435693.0  8.148140e+10\n",
       "2010-01-05   5188.55   5211.35   5182.10   5203.80  375683162.0  1.056156e+11\n",
       "2010-01-06   5221.65   5228.25   5191.10   5214.00  329435534.0  1.049670e+11\n",
       "2010-01-07   5213.45   5229.50   5175.95   5191.70  285387018.0  8.927550e+10\n",
       "2010-01-08   5193.45   5206.50   5165.85   5175.75  315212250.0  9.858210e+10\n",
       "...              ...       ...       ...       ...          ...           ...\n",
       "2020-09-25  11029.50  11198.10  10974.90  11176.30  756633008.0  3.712119e+11\n",
       "2020-09-28  11270.55  11375.45  11233.55  11365.25  623662120.0  2.959780e+11\n",
       "2020-09-29  11429.40  11449.45  11314.45  11353.65  685046809.0  3.301547e+11\n",
       "2020-09-30  11380.20  11431.65  11320.00  11385.20  690244326.0  3.451614e+11\n",
       "2020-10-01  11499.65  11557.40  11484.25  11545.90  640143018.0  3.147881e+11\n",
       "\n",
       "[2660 rows x 6 columns]"
      ]
     },
     "execution_count": 8,
     "metadata": {},
     "output_type": "execute_result"
    }
   ],
   "source": [
    "# clean the data by removing the rows with missing values\n",
    "data.dropna()"
   ]
  },
  {
   "cell_type": "code",
   "execution_count": 9,
   "metadata": {},
   "outputs": [
    {
     "data": {
      "text/html": [
       "<div>\n",
       "<style scoped>\n",
       "    .dataframe tbody tr th:only-of-type {\n",
       "        vertical-align: middle;\n",
       "    }\n",
       "\n",
       "    .dataframe tbody tr th {\n",
       "        vertical-align: top;\n",
       "    }\n",
       "\n",
       "    .dataframe thead th {\n",
       "        text-align: right;\n",
       "    }\n",
       "</style>\n",
       "<table border=\"1\" class=\"dataframe\">\n",
       "  <thead>\n",
       "    <tr style=\"text-align: right;\">\n",
       "      <th></th>\n",
       "      <th>Open</th>\n",
       "      <th>High</th>\n",
       "      <th>Low</th>\n",
       "      <th>Close</th>\n",
       "      <th>Volume</th>\n",
       "      <th>Turnover</th>\n",
       "    </tr>\n",
       "    <tr>\n",
       "      <th>Date</th>\n",
       "      <th></th>\n",
       "      <th></th>\n",
       "      <th></th>\n",
       "      <th></th>\n",
       "      <th></th>\n",
       "      <th></th>\n",
       "    </tr>\n",
       "  </thead>\n",
       "  <tbody>\n",
       "    <tr>\n",
       "      <th>2010-01-04</th>\n",
       "      <td>5098.50</td>\n",
       "      <td>5158.05</td>\n",
       "      <td>5098.50</td>\n",
       "      <td>5153.55</td>\n",
       "      <td>243435693.0</td>\n",
       "      <td>8.148140e+10</td>\n",
       "    </tr>\n",
       "    <tr>\n",
       "      <th>2010-01-05</th>\n",
       "      <td>5188.55</td>\n",
       "      <td>5211.35</td>\n",
       "      <td>5182.10</td>\n",
       "      <td>5203.80</td>\n",
       "      <td>375683162.0</td>\n",
       "      <td>1.056156e+11</td>\n",
       "    </tr>\n",
       "    <tr>\n",
       "      <th>2010-01-06</th>\n",
       "      <td>5221.65</td>\n",
       "      <td>5228.25</td>\n",
       "      <td>5191.10</td>\n",
       "      <td>5214.00</td>\n",
       "      <td>329435534.0</td>\n",
       "      <td>1.049670e+11</td>\n",
       "    </tr>\n",
       "    <tr>\n",
       "      <th>2010-01-07</th>\n",
       "      <td>5213.45</td>\n",
       "      <td>5229.50</td>\n",
       "      <td>5175.95</td>\n",
       "      <td>5191.70</td>\n",
       "      <td>285387018.0</td>\n",
       "      <td>8.927550e+10</td>\n",
       "    </tr>\n",
       "    <tr>\n",
       "      <th>2010-01-08</th>\n",
       "      <td>5193.45</td>\n",
       "      <td>5206.50</td>\n",
       "      <td>5165.85</td>\n",
       "      <td>5175.75</td>\n",
       "      <td>315212250.0</td>\n",
       "      <td>9.858210e+10</td>\n",
       "    </tr>\n",
       "  </tbody>\n",
       "</table>\n",
       "</div>"
      ],
      "text/plain": [
       "               Open     High      Low    Close       Volume      Turnover\n",
       "Date                                                                     \n",
       "2010-01-04  5098.50  5158.05  5098.50  5153.55  243435693.0  8.148140e+10\n",
       "2010-01-05  5188.55  5211.35  5182.10  5203.80  375683162.0  1.056156e+11\n",
       "2010-01-06  5221.65  5228.25  5191.10  5214.00  329435534.0  1.049670e+11\n",
       "2010-01-07  5213.45  5229.50  5175.95  5191.70  285387018.0  8.927550e+10\n",
       "2010-01-08  5193.45  5206.50  5165.85  5175.75  315212250.0  9.858210e+10"
      ]
     },
     "execution_count": 9,
     "metadata": {},
     "output_type": "execute_result"
    }
   ],
   "source": [
    "# check for missing values\n",
    "data.head(5)"
   ]
  },
  {
   "cell_type": "markdown",
   "metadata": {},
   "source": [
    "# Checking SMA Strategy\n",
    "<i>We will try to find the best possible windows n1 and n2.  \n",
    "However, this might overfit the data</i>"
   ]
  },
  {
   "cell_type": "markdown",
   "metadata": {},
   "source": [
    "We won't be entering into the short postitions in this strategy."
   ]
  },
  {
   "cell_type": "code",
   "execution_count": 10,
   "metadata": {},
   "outputs": [],
   "source": [
    "\n",
    "class SMA_CrossOver(Strategy):\n",
    "    # Define the two MA lags as parameters\n",
    "    n1 = 10\n",
    "    n2 = 40\n",
    "    def init(self):\n",
    "        self.sma1 = self.I(SMA, self.data.Close, self.n1) \n",
    "        self.sma2 = self.I(SMA, self.data.Close, self.n2) \n",
    "        \n",
    "    def next(self):\n",
    "        if crossover(self.sma1,self.sma2):\n",
    "            self.position.close() #close any existing short position\n",
    "            self.buy()\n",
    "        elif crossover(self.sma2,self.sma1):\n",
    "            self.position.close() #close any existing long position\n",
    "            # self.sell()"
   ]
  },
  {
   "cell_type": "code",
   "execution_count": 11,
   "metadata": {},
   "outputs": [],
   "source": [
    "bt = Backtest(data, SMA_CrossOver,commission=0.01, cash=100000) "
   ]
  },
  {
   "cell_type": "code",
   "execution_count": 12,
   "metadata": {},
   "outputs": [
    {
     "data": {
      "application/vnd.jupyter.widget-view+json": {
       "model_id": "c34d6710df1b4a60a209ebf28432515c",
       "version_major": 2,
       "version_minor": 0
      },
      "text/plain": [
       "  0%|          | 0/33 [00:00<?, ?it/s]"
      ]
     },
     "metadata": {},
     "output_type": "display_data"
    }
   ],
   "source": [
    "stats, heatmap = bt.optimize(\n",
    "\tn1 = range(5, 20, 5),\n",
    "\tn2 = range(10, 70, 5),\t\n",
    "\tmaximize='Equity Final [$]',\n",
    "\tmethod='grid',\n",
    "\tconstraint=lambda p: p.n1 < p.n2,\n",
    " \treturn_heatmap=True\n",
    ")"
   ]
  },
  {
   "cell_type": "code",
   "execution_count": 13,
   "metadata": {},
   "outputs": [
    {
     "data": {
      "text/plain": [
       "n1  n2\n",
       "15  65    146671.6955\n",
       "    60    141664.0410\n",
       "5   60    139787.5230\n",
       "15  55    139295.9865\n",
       "10  60    136836.7505\n",
       "5   65    136232.9305\n",
       "15  50    132990.5230\n",
       "5   55    132764.4255\n",
       "10  45    131908.8450\n",
       "    65    130072.7170\n",
       "5   45    129555.2250\n",
       "10  40    129114.2820\n",
       "    55    127580.6430\n",
       "5   50    127358.9905\n",
       "10  50    125876.8310\n",
       "5   40    125141.4860\n",
       "10  35    119659.5340\n",
       "15  45    109342.7275\n",
       "    35    101858.3325\n",
       "    40     97576.3300\n",
       "5   35     95478.8960\n",
       "10  30     91814.2890\n",
       "    20     89619.4070\n",
       "    25     89051.6285\n",
       "15  25     82771.9190\n",
       "5   30     81068.2555\n",
       "15  30     75796.5690\n",
       "5   25     70615.2330\n",
       "15  20     67324.9950\n",
       "10  15     66255.6870\n",
       "5   20     56268.5720\n",
       "    15     50415.3635\n",
       "    10     32294.8700\n",
       "Name: Equity Final [$], dtype: float64"
      ]
     },
     "execution_count": 13,
     "metadata": {},
     "output_type": "execute_result"
    }
   ],
   "source": [
    "heatmap.sort_values(ascending=False)"
   ]
  },
  {
   "cell_type": "markdown",
   "metadata": {},
   "source": [
    "Plotting sensitivity matrix"
   ]
  },
  {
   "cell_type": "code",
   "execution_count": 14,
   "metadata": {},
   "outputs": [
    {
     "data": {
      "text/html": [
       "<div>\n",
       "<style scoped>\n",
       "    .dataframe tbody tr th:only-of-type {\n",
       "        vertical-align: middle;\n",
       "    }\n",
       "\n",
       "    .dataframe tbody tr th {\n",
       "        vertical-align: top;\n",
       "    }\n",
       "\n",
       "    .dataframe thead th {\n",
       "        text-align: right;\n",
       "    }\n",
       "</style>\n",
       "<table border=\"1\" class=\"dataframe\">\n",
       "  <thead>\n",
       "    <tr style=\"text-align: right;\">\n",
       "      <th>n2</th>\n",
       "      <th>10</th>\n",
       "      <th>15</th>\n",
       "      <th>20</th>\n",
       "      <th>25</th>\n",
       "      <th>30</th>\n",
       "      <th>35</th>\n",
       "      <th>40</th>\n",
       "      <th>45</th>\n",
       "      <th>50</th>\n",
       "      <th>55</th>\n",
       "      <th>60</th>\n",
       "      <th>65</th>\n",
       "    </tr>\n",
       "    <tr>\n",
       "      <th>n1</th>\n",
       "      <th></th>\n",
       "      <th></th>\n",
       "      <th></th>\n",
       "      <th></th>\n",
       "      <th></th>\n",
       "      <th></th>\n",
       "      <th></th>\n",
       "      <th></th>\n",
       "      <th></th>\n",
       "      <th></th>\n",
       "      <th></th>\n",
       "      <th></th>\n",
       "    </tr>\n",
       "  </thead>\n",
       "  <tbody>\n",
       "    <tr>\n",
       "      <th>5</th>\n",
       "      <td>32294.87</td>\n",
       "      <td>50415.3635</td>\n",
       "      <td>56268.572</td>\n",
       "      <td>70615.2330</td>\n",
       "      <td>81068.2555</td>\n",
       "      <td>95478.8960</td>\n",
       "      <td>125141.486</td>\n",
       "      <td>129555.2250</td>\n",
       "      <td>127358.9905</td>\n",
       "      <td>132764.4255</td>\n",
       "      <td>139787.5230</td>\n",
       "      <td>136232.9305</td>\n",
       "    </tr>\n",
       "    <tr>\n",
       "      <th>10</th>\n",
       "      <td>NaN</td>\n",
       "      <td>66255.6870</td>\n",
       "      <td>89619.407</td>\n",
       "      <td>89051.6285</td>\n",
       "      <td>91814.2890</td>\n",
       "      <td>119659.5340</td>\n",
       "      <td>129114.282</td>\n",
       "      <td>131908.8450</td>\n",
       "      <td>125876.8310</td>\n",
       "      <td>127580.6430</td>\n",
       "      <td>136836.7505</td>\n",
       "      <td>130072.7170</td>\n",
       "    </tr>\n",
       "    <tr>\n",
       "      <th>15</th>\n",
       "      <td>NaN</td>\n",
       "      <td>NaN</td>\n",
       "      <td>67324.995</td>\n",
       "      <td>82771.9190</td>\n",
       "      <td>75796.5690</td>\n",
       "      <td>101858.3325</td>\n",
       "      <td>97576.330</td>\n",
       "      <td>109342.7275</td>\n",
       "      <td>132990.5230</td>\n",
       "      <td>139295.9865</td>\n",
       "      <td>141664.0410</td>\n",
       "      <td>146671.6955</td>\n",
       "    </tr>\n",
       "  </tbody>\n",
       "</table>\n",
       "</div>"
      ],
      "text/plain": [
       "n2        10          15         20          25          30           35  \\\n",
       "n1                                                                         \n",
       "5   32294.87  50415.3635  56268.572  70615.2330  81068.2555   95478.8960   \n",
       "10       NaN  66255.6870  89619.407  89051.6285  91814.2890  119659.5340   \n",
       "15       NaN         NaN  67324.995  82771.9190  75796.5690  101858.3325   \n",
       "\n",
       "n2          40           45           50           55           60  \\\n",
       "n1                                                                   \n",
       "5   125141.486  129555.2250  127358.9905  132764.4255  139787.5230   \n",
       "10  129114.282  131908.8450  125876.8310  127580.6430  136836.7505   \n",
       "15   97576.330  109342.7275  132990.5230  139295.9865  141664.0410   \n",
       "\n",
       "n2           65  \n",
       "n1               \n",
       "5   136232.9305  \n",
       "10  130072.7170  \n",
       "15  146671.6955  "
      ]
     },
     "execution_count": 14,
     "metadata": {},
     "output_type": "execute_result"
    }
   ],
   "source": [
    "hm = heatmap.groupby(['n1', 'n2']).mean().unstack()\n",
    "hm"
   ]
  },
  {
   "cell_type": "markdown",
   "metadata": {},
   "source": [
    "Visualising Heatmap"
   ]
  },
  {
   "cell_type": "code",
   "execution_count": 1,
   "metadata": {},
   "outputs": [
    {
     "ename": "NameError",
     "evalue": "name 'hm' is not defined",
     "output_type": "error",
     "traceback": [
      "\u001b[1;31m---------------------------------------------------------------------------\u001b[0m",
      "\u001b[1;31mNameError\u001b[0m                                 Traceback (most recent call last)",
      "Cell \u001b[1;32mIn[1], line 3\u001b[0m\n\u001b[0;32m      1\u001b[0m \u001b[38;5;28;01mimport\u001b[39;00m \u001b[38;5;21;01mseaborn\u001b[39;00m \u001b[38;5;28;01mas\u001b[39;00m \u001b[38;5;21;01msns\u001b[39;00m\n\u001b[1;32m----> 3\u001b[0m sns\u001b[38;5;241m.\u001b[39mheatmap(hm[::\u001b[38;5;241m-\u001b[39m\u001b[38;5;241m1\u001b[39m], cmap\u001b[38;5;241m=\u001b[39m\u001b[38;5;124m'\u001b[39m\u001b[38;5;124mviridis\u001b[39m\u001b[38;5;124m'\u001b[39m)\n",
      "\u001b[1;31mNameError\u001b[0m: name 'hm' is not defined"
     ]
    }
   ],
   "source": [
    "import seaborn as sns\n",
    "\n",
    "sns.heatmap(hm[::-1], cmap='viridis')"
   ]
  },
  {
   "cell_type": "code",
   "execution_count": 16,
   "metadata": {},
   "outputs": [
    {
     "data": {
      "text/plain": [
       "<Strategy SMA_CrossOver(n1=15,n2=65)>"
      ]
     },
     "execution_count": 16,
     "metadata": {},
     "output_type": "execute_result"
    }
   ],
   "source": [
    "stats._strategy #shows the parameters of the best strategy"
   ]
  },
  {
   "cell_type": "code",
   "execution_count": 17,
   "metadata": {},
   "outputs": [
    {
     "data": {
      "text/plain": [
       "Start                     2010-01-04 00:00:00\n",
       "End                       2020-10-01 00:00:00\n",
       "Duration                   3923 days 00:00:00\n",
       "Exposure Time [%]                   63.005997\n",
       "Equity Final [$]                  146671.6955\n",
       "Equity Peak [$]                   150173.8955\n",
       "Return [%]                          46.671696\n",
       "Buy & Hold Return [%]              124.037799\n",
       "Return (Ann.) [%]                     3.68403\n",
       "Volatility (Ann.) [%]               10.693577\n",
       "Sharpe Ratio                         0.344509\n",
       "Sortino Ratio                        0.504019\n",
       "Calmar Ratio                         0.110737\n",
       "Max. Drawdown [%]                  -33.268182\n",
       "Avg. Drawdown [%]                   -2.341792\n",
       "Max. Drawdown Duration     2378 days 00:00:00\n",
       "Avg. Drawdown Duration       82 days 00:00:00\n",
       "# Trades                                   20\n",
       "Win Rate [%]                             55.0\n",
       "Best Trade [%]                      32.280178\n",
       "Worst Trade [%]                    -11.173113\n",
       "Avg. Trade [%]                        2.08204\n",
       "Max. Trade Duration         385 days 00:00:00\n",
       "Avg. Trade Duration         122 days 00:00:00\n",
       "Profit Factor                        1.931543\n",
       "Expectancy [%]                       2.607729\n",
       "SQN                                  1.047807\n",
       "_strategy                 SMA_CrossOver(n1...\n",
       "_equity_curve                             ...\n",
       "_trades                       Size  EntryB...\n",
       "dtype: object"
      ]
     },
     "execution_count": 17,
     "metadata": {},
     "output_type": "execute_result"
    }
   ],
   "source": [
    "stats"
   ]
  },
  {
   "cell_type": "code",
   "execution_count": 18,
   "metadata": {},
   "outputs": [
    {
     "name": "stderr",
     "output_type": "stream",
     "text": [
      "BokehDeprecationWarning: Passing lists of formats for DatetimeTickFormatter scales was deprecated in Bokeh 3.0. Configure a single string format for each scale\n",
      "c:\\Users\\tejas\\anaconda3\\Lib\\site-packages\\backtesting\\_plotting.py:250: UserWarning: DatetimeFormatter scales now only accept a single format. Using the first provided: '%d %b'\n",
      "  formatter=DatetimeTickFormatter(days=['%d %b', '%a %d'],\n",
      "BokehDeprecationWarning: Passing lists of formats for DatetimeTickFormatter scales was deprecated in Bokeh 3.0. Configure a single string format for each scale\n",
      "c:\\Users\\tejas\\anaconda3\\Lib\\site-packages\\backtesting\\_plotting.py:250: UserWarning: DatetimeFormatter scales now only accept a single format. Using the first provided: '%m/%Y'\n",
      "  formatter=DatetimeTickFormatter(days=['%d %b', '%a %d'],\n",
      "c:\\Users\\tejas\\anaconda3\\Lib\\site-packages\\backtesting\\_plotting.py:659: UserWarning: found multiple competing values for 'toolbar.active_drag' property; using the latest value\n",
      "  fig = gridplot(\n",
      "c:\\Users\\tejas\\anaconda3\\Lib\\site-packages\\backtesting\\_plotting.py:659: UserWarning: found multiple competing values for 'toolbar.active_scroll' property; using the latest value\n",
      "  fig = gridplot(\n"
     ]
    },
    {
     "data": {
      "text/html": [
       "<div style=\"display: table;\"><div style=\"display: table-row;\"><div style=\"display: table-cell;\"><b title=\"bokeh.models.plots.GridPlot\">GridPlot</b>(</div><div style=\"display: table-cell;\">id&nbsp;=&nbsp;'p1281', <span id=\"p1313\" style=\"cursor: pointer;\">&hellip;)</span></div></div><div class=\"p1312\" style=\"display: none;\"><div style=\"display: table-cell;\"></div><div style=\"display: table-cell;\">align&nbsp;=&nbsp;'auto',</div></div><div class=\"p1312\" style=\"display: none;\"><div style=\"display: table-cell;\"></div><div style=\"display: table-cell;\">aspect_ratio&nbsp;=&nbsp;None,</div></div><div class=\"p1312\" style=\"display: none;\"><div style=\"display: table-cell;\"></div><div style=\"display: table-cell;\">children&nbsp;=&nbsp;[(figure(id='p1046', ...), 0, 0), (figure(id='p1143', ...), 1, 0), (figure(id='p1002', ...), 2, 0)],</div></div><div class=\"p1312\" style=\"display: none;\"><div style=\"display: table-cell;\"></div><div style=\"display: table-cell;\">cols&nbsp;=&nbsp;None,</div></div><div class=\"p1312\" style=\"display: none;\"><div style=\"display: table-cell;\"></div><div style=\"display: table-cell;\">context_menu&nbsp;=&nbsp;None,</div></div><div class=\"p1312\" style=\"display: none;\"><div style=\"display: table-cell;\"></div><div style=\"display: table-cell;\">css_classes&nbsp;=&nbsp;[],</div></div><div class=\"p1312\" style=\"display: none;\"><div style=\"display: table-cell;\"></div><div style=\"display: table-cell;\">disabled&nbsp;=&nbsp;False,</div></div><div class=\"p1312\" style=\"display: none;\"><div style=\"display: table-cell;\"></div><div style=\"display: table-cell;\">flow_mode&nbsp;=&nbsp;'block',</div></div><div class=\"p1312\" style=\"display: none;\"><div style=\"display: table-cell;\"></div><div style=\"display: table-cell;\">height&nbsp;=&nbsp;None,</div></div><div class=\"p1312\" style=\"display: none;\"><div style=\"display: table-cell;\"></div><div style=\"display: table-cell;\">height_policy&nbsp;=&nbsp;'auto',</div></div><div class=\"p1312\" style=\"display: none;\"><div style=\"display: table-cell;\"></div><div style=\"display: table-cell;\">js_event_callbacks&nbsp;=&nbsp;{},</div></div><div class=\"p1312\" style=\"display: none;\"><div style=\"display: table-cell;\"></div><div style=\"display: table-cell;\">js_property_callbacks&nbsp;=&nbsp;{},</div></div><div class=\"p1312\" style=\"display: none;\"><div style=\"display: table-cell;\"></div><div style=\"display: table-cell;\">margin&nbsp;=&nbsp;None,</div></div><div class=\"p1312\" style=\"display: none;\"><div style=\"display: table-cell;\"></div><div style=\"display: table-cell;\">max_height&nbsp;=&nbsp;None,</div></div><div class=\"p1312\" style=\"display: none;\"><div style=\"display: table-cell;\"></div><div style=\"display: table-cell;\">max_width&nbsp;=&nbsp;None,</div></div><div class=\"p1312\" style=\"display: none;\"><div style=\"display: table-cell;\"></div><div style=\"display: table-cell;\">min_height&nbsp;=&nbsp;None,</div></div><div class=\"p1312\" style=\"display: none;\"><div style=\"display: table-cell;\"></div><div style=\"display: table-cell;\">min_width&nbsp;=&nbsp;None,</div></div><div class=\"p1312\" style=\"display: none;\"><div style=\"display: table-cell;\"></div><div style=\"display: table-cell;\">name&nbsp;=&nbsp;None,</div></div><div class=\"p1312\" style=\"display: none;\"><div style=\"display: table-cell;\"></div><div style=\"display: table-cell;\">resizable&nbsp;=&nbsp;False,</div></div><div class=\"p1312\" style=\"display: none;\"><div style=\"display: table-cell;\"></div><div style=\"display: table-cell;\">rows&nbsp;=&nbsp;None,</div></div><div class=\"p1312\" style=\"display: none;\"><div style=\"display: table-cell;\"></div><div style=\"display: table-cell;\">sizing_mode&nbsp;=&nbsp;'stretch_width',</div></div><div class=\"p1312\" style=\"display: none;\"><div style=\"display: table-cell;\"></div><div style=\"display: table-cell;\">spacing&nbsp;=&nbsp;0,</div></div><div class=\"p1312\" style=\"display: none;\"><div style=\"display: table-cell;\"></div><div style=\"display: table-cell;\">styles&nbsp;=&nbsp;{},</div></div><div class=\"p1312\" style=\"display: none;\"><div style=\"display: table-cell;\"></div><div style=\"display: table-cell;\">stylesheets&nbsp;=&nbsp;[],</div></div><div class=\"p1312\" style=\"display: none;\"><div style=\"display: table-cell;\"></div><div style=\"display: table-cell;\">subscribed_events&nbsp;=&nbsp;PropertyValueSet(),</div></div><div class=\"p1312\" style=\"display: none;\"><div style=\"display: table-cell;\"></div><div style=\"display: table-cell;\">syncable&nbsp;=&nbsp;True,</div></div><div class=\"p1312\" style=\"display: none;\"><div style=\"display: table-cell;\"></div><div style=\"display: table-cell;\">tags&nbsp;=&nbsp;[],</div></div><div class=\"p1312\" style=\"display: none;\"><div style=\"display: table-cell;\"></div><div style=\"display: table-cell;\">toolbar&nbsp;=&nbsp;Toolbar(id='p1280', ...),</div></div><div class=\"p1312\" style=\"display: none;\"><div style=\"display: table-cell;\"></div><div style=\"display: table-cell;\">toolbar_location&nbsp;=&nbsp;'right',</div></div><div class=\"p1312\" style=\"display: none;\"><div style=\"display: table-cell;\"></div><div style=\"display: table-cell;\">visible&nbsp;=&nbsp;True,</div></div><div class=\"p1312\" style=\"display: none;\"><div style=\"display: table-cell;\"></div><div style=\"display: table-cell;\">width&nbsp;=&nbsp;None,</div></div><div class=\"p1312\" style=\"display: none;\"><div style=\"display: table-cell;\"></div><div style=\"display: table-cell;\">width_policy&nbsp;=&nbsp;'auto')</div></div></div>\n",
       "<script>\n",
       "(function() {\n",
       "  let expanded = false;\n",
       "  const ellipsis = document.getElementById(\"p1313\");\n",
       "  ellipsis.addEventListener(\"click\", function() {\n",
       "    const rows = document.getElementsByClassName(\"p1312\");\n",
       "    for (let i = 0; i < rows.length; i++) {\n",
       "      const el = rows[i];\n",
       "      el.style.display = expanded ? \"none\" : \"table-row\";\n",
       "    }\n",
       "    ellipsis.innerHTML = expanded ? \"&hellip;)\" : \"&lsaquo;&lsaquo;&lsaquo;\";\n",
       "    expanded = !expanded;\n",
       "  });\n",
       "})();\n",
       "</script>\n"
      ],
      "text/plain": [
       "GridPlot(id='p1281', ...)"
      ]
     },
     "execution_count": 18,
     "metadata": {},
     "output_type": "execute_result"
    }
   ],
   "source": [
    "bt.plot(filename='./plots/SMA_CrossOver(15,65)_NIFTY_100.py',plot_volume=False, plot_pl=True)"
   ]
  },
  {
   "cell_type": "markdown",
   "metadata": {},
   "source": [
    "## EMA Backtesting\n",
    "\n",
    "<i>We will try to find the best possible windows n1 and n2.  \n",
    "However, this might overfit the data</i>\n",
    "\n",
    "We won't be entering into short positions"
   ]
  },
  {
   "cell_type": "code",
   "execution_count": 19,
   "metadata": {},
   "outputs": [],
   "source": [
    "def EMA_Backtesting(values, n):\n",
    "    close = pd.Series(values)\n",
    "    return talib.EMA(close, timeperiod=n)\n",
    "\n",
    "class EMA_CrossOver(Strategy):\n",
    "    n1 = 20\n",
    "    n2 = 50\n",
    "    \n",
    "    def init(self):\n",
    "        # Precompute two moving averages\n",
    "        self.ema1 = self.I(EMA_Backtesting, self.data.Close, self.n1)\n",
    "        self.ema2 = self.I(EMA_Backtesting, self.data.Close, self.n2)\n",
    "    \n",
    "    def next(self):       \n",
    "        # If ema1 crosses above ema2, buy the asset\n",
    "        if crossover(self.ema1, self.ema2):\n",
    "            self.position.close()\n",
    "            self.buy()\n",
    "\n",
    "        # Else, if ema1 crosses below ema2, sell it\n",
    "        elif crossover(self.ema2, self.ema1):\n",
    "            self.position.close()\n",
    "            # self.sell()"
   ]
  },
  {
   "cell_type": "code",
   "execution_count": 20,
   "metadata": {},
   "outputs": [
    {
     "name": "stderr",
     "output_type": "stream",
     "text": [
      "C:\\Users\\tejas\\AppData\\Local\\Temp\\ipykernel_20492\\2489503161.py:1: UserWarning: Some prices are larger than initial cash value. Note that fractional trading is not supported. If you want to trade Bitcoin, increase initial cash, or trade μBTC or satoshis instead (GH-134).\n",
      "  bt = Backtest(data, EMA_CrossOver, cash=10000, commission=0.01, exclusive_orders=True)\n"
     ]
    }
   ],
   "source": [
    "bt = Backtest(data, EMA_CrossOver, cash=10000, commission=0.01, exclusive_orders=True)"
   ]
  },
  {
   "cell_type": "code",
   "execution_count": 21,
   "metadata": {},
   "outputs": [
    {
     "data": {
      "application/vnd.jupyter.widget-view+json": {
       "model_id": "d3270db30e4c4806a33e1de391773f0a",
       "version_major": 2,
       "version_minor": 0
      },
      "text/plain": [
       "  0%|          | 0/35 [00:00<?, ?it/s]"
      ]
     },
     "metadata": {},
     "output_type": "display_data"
    }
   ],
   "source": [
    "stats, heatmap = bt.optimize(\n",
    "\tn1=range(5, 30, 5),\n",
    "\tn2=range(35, 70, 5),\n",
    "\tmaximize='Equity Final [$]',\n",
    "\tconstraint=lambda p: p.n1 < p.n2,\n",
    "\treturn_heatmap=True\n",
    ")"
   ]
  },
  {
   "cell_type": "code",
   "execution_count": 22,
   "metadata": {},
   "outputs": [
    {
     "data": {
      "text/html": [
       "<div>\n",
       "<style scoped>\n",
       "    .dataframe tbody tr th:only-of-type {\n",
       "        vertical-align: middle;\n",
       "    }\n",
       "\n",
       "    .dataframe tbody tr th {\n",
       "        vertical-align: top;\n",
       "    }\n",
       "\n",
       "    .dataframe thead th {\n",
       "        text-align: right;\n",
       "    }\n",
       "</style>\n",
       "<table border=\"1\" class=\"dataframe\">\n",
       "  <thead>\n",
       "    <tr style=\"text-align: right;\">\n",
       "      <th>n2</th>\n",
       "      <th>35</th>\n",
       "      <th>40</th>\n",
       "      <th>45</th>\n",
       "      <th>50</th>\n",
       "      <th>55</th>\n",
       "      <th>60</th>\n",
       "      <th>65</th>\n",
       "    </tr>\n",
       "    <tr>\n",
       "      <th>n1</th>\n",
       "      <th></th>\n",
       "      <th></th>\n",
       "      <th></th>\n",
       "      <th></th>\n",
       "      <th></th>\n",
       "      <th></th>\n",
       "      <th></th>\n",
       "    </tr>\n",
       "  </thead>\n",
       "  <tbody>\n",
       "    <tr>\n",
       "      <th>25</th>\n",
       "      <td>13052.8150</td>\n",
       "      <td>13592.3375</td>\n",
       "      <td>12950.1305</td>\n",
       "      <td>13103.5150</td>\n",
       "      <td>13751.1715</td>\n",
       "      <td>13739.0655</td>\n",
       "      <td>12641.8440</td>\n",
       "    </tr>\n",
       "    <tr>\n",
       "      <th>20</th>\n",
       "      <td>13261.2270</td>\n",
       "      <td>12504.8650</td>\n",
       "      <td>13516.4930</td>\n",
       "      <td>13266.8765</td>\n",
       "      <td>12266.9190</td>\n",
       "      <td>13690.6635</td>\n",
       "      <td>13632.1100</td>\n",
       "    </tr>\n",
       "    <tr>\n",
       "      <th>15</th>\n",
       "      <td>12762.6915</td>\n",
       "      <td>12894.7095</td>\n",
       "      <td>12877.8250</td>\n",
       "      <td>13051.8535</td>\n",
       "      <td>13077.7655</td>\n",
       "      <td>13799.9765</td>\n",
       "      <td>13309.4995</td>\n",
       "    </tr>\n",
       "    <tr>\n",
       "      <th>10</th>\n",
       "      <td>11905.8510</td>\n",
       "      <td>11906.6350</td>\n",
       "      <td>12061.9265</td>\n",
       "      <td>13000.4335</td>\n",
       "      <td>13263.8570</td>\n",
       "      <td>13240.2415</td>\n",
       "      <td>13049.1900</td>\n",
       "    </tr>\n",
       "    <tr>\n",
       "      <th>5</th>\n",
       "      <td>12416.5455</td>\n",
       "      <td>12766.0920</td>\n",
       "      <td>12613.3330</td>\n",
       "      <td>12986.6105</td>\n",
       "      <td>12518.0735</td>\n",
       "      <td>12452.5755</td>\n",
       "      <td>12408.5095</td>\n",
       "    </tr>\n",
       "  </tbody>\n",
       "</table>\n",
       "</div>"
      ],
      "text/plain": [
       "n2          35          40          45          50          55          60  \\\n",
       "n1                                                                           \n",
       "25  13052.8150  13592.3375  12950.1305  13103.5150  13751.1715  13739.0655   \n",
       "20  13261.2270  12504.8650  13516.4930  13266.8765  12266.9190  13690.6635   \n",
       "15  12762.6915  12894.7095  12877.8250  13051.8535  13077.7655  13799.9765   \n",
       "10  11905.8510  11906.6350  12061.9265  13000.4335  13263.8570  13240.2415   \n",
       "5   12416.5455  12766.0920  12613.3330  12986.6105  12518.0735  12452.5755   \n",
       "\n",
       "n2          65  \n",
       "n1              \n",
       "25  12641.8440  \n",
       "20  13632.1100  \n",
       "15  13309.4995  \n",
       "10  13049.1900  \n",
       "5   12408.5095  "
      ]
     },
     "execution_count": 22,
     "metadata": {},
     "output_type": "execute_result"
    }
   ],
   "source": [
    "heatmap.groupby(['n1', 'n2']).mean().unstack()[::-1]"
   ]
  },
  {
   "cell_type": "markdown",
   "metadata": {},
   "source": [
    "Visualizing heatmap"
   ]
  },
  {
   "cell_type": "code",
   "execution_count": 23,
   "metadata": {},
   "outputs": [
    {
     "data": {
      "text/plain": [
       "<Axes: xlabel='n2', ylabel='n1'>"
      ]
     },
     "execution_count": 23,
     "metadata": {},
     "output_type": "execute_result"
    },
    {
     "data": {
      "image/png": "[encoded data removed]",
      "text/plain": [
       "<Figure size 640x480 with 2 Axes>"
      ]
     },
     "metadata": {},
     "output_type": "display_data"
    }
   ],
   "source": [
    "sns.heatmap(heatmap.groupby(['n1', 'n2']).mean().unstack()[::-1], cmap='viridis')"
   ]
  },
  {
   "cell_type": "code",
   "execution_count": 24,
   "metadata": {},
   "outputs": [
    {
     "data": {
      "text/plain": [
       "<Strategy EMA_CrossOver(n1=15,n2=60)>"
      ]
     },
     "execution_count": 24,
     "metadata": {},
     "output_type": "execute_result"
    }
   ],
   "source": [
    "stats._strategy"
   ]
  },
  {
   "cell_type": "code",
   "execution_count": 25,
   "metadata": {},
   "outputs": [
    {
     "data": {
      "text/plain": [
       "Start                     2010-01-04 00:00:00\n",
       "End                       2020-10-01 00:00:00\n",
       "Duration                   3923 days 00:00:00\n",
       "Exposure Time [%]                   65.442279\n",
       "Equity Final [$]                   13799.9765\n",
       "Equity Peak [$]                    14166.7655\n",
       "Return [%]                          37.999765\n",
       "Buy & Hold Return [%]              124.037799\n",
       "Return (Ann.) [%]                    3.088898\n",
       "Volatility (Ann.) [%]                8.057532\n",
       "Sharpe Ratio                         0.383355\n",
       "Sortino Ratio                         0.55579\n",
       "Calmar Ratio                         0.176785\n",
       "Max. Drawdown [%]                  -17.472639\n",
       "Avg. Drawdown [%]                   -1.884459\n",
       "Max. Drawdown Duration     1391 days 00:00:00\n",
       "Avg. Drawdown Duration       71 days 00:00:00\n",
       "# Trades                                   22\n",
       "Win Rate [%]                        45.454545\n",
       "Best Trade [%]                      36.780089\n",
       "Worst Trade [%]                     -7.129488\n",
       "Avg. Trade [%]                       1.902111\n",
       "Max. Trade Duration         401 days 00:00:00\n",
       "Avg. Trade Duration         116 days 00:00:00\n",
       "Profit Factor                        1.962474\n",
       "Expectancy [%]                       2.403787\n",
       "SQN                                  1.055426\n",
       "_strategy                 EMA_CrossOver(n1...\n",
       "_equity_curve                             ...\n",
       "_trades                       Size  EntryB...\n",
       "dtype: object"
      ]
     },
     "execution_count": 25,
     "metadata": {},
     "output_type": "execute_result"
    }
   ],
   "source": [
    "stats"
   ]
  },
  {
   "cell_type": "code",
   "execution_count": 26,
   "metadata": {},
   "outputs": [
    {
     "name": "stderr",
     "output_type": "stream",
     "text": [
      "BokehDeprecationWarning: Passing lists of formats for DatetimeTickFormatter scales was deprecated in Bokeh 3.0. Configure a single string format for each scale\n",
      "c:\\Users\\tejas\\anaconda3\\Lib\\site-packages\\backtesting\\_plotting.py:250: UserWarning: DatetimeFormatter scales now only accept a single format. Using the first provided: '%d %b'\n",
      "  formatter=DatetimeTickFormatter(days=['%d %b', '%a %d'],\n",
      "BokehDeprecationWarning: Passing lists of formats for DatetimeTickFormatter scales was deprecated in Bokeh 3.0. Configure a single string format for each scale\n",
      "c:\\Users\\tejas\\anaconda3\\Lib\\site-packages\\backtesting\\_plotting.py:250: UserWarning: DatetimeFormatter scales now only accept a single format. Using the first provided: '%m/%Y'\n",
      "  formatter=DatetimeTickFormatter(days=['%d %b', '%a %d'],\n",
      "c:\\Users\\tejas\\anaconda3\\Lib\\site-packages\\backtesting\\_plotting.py:659: UserWarning: found multiple competing values for 'toolbar.active_drag' property; using the latest value\n",
      "  fig = gridplot(\n",
      "c:\\Users\\tejas\\anaconda3\\Lib\\site-packages\\backtesting\\_plotting.py:659: UserWarning: found multiple competing values for 'toolbar.active_scroll' property; using the latest value\n",
      "  fig = gridplot(\n"
     ]
    },
    {
     "data": {
      "text/html": [
       "<div style=\"display: table;\"><div style=\"display: table-row;\"><div style=\"display: table-cell;\"><b title=\"bokeh.models.plots.GridPlot\">GridPlot</b>(</div><div style=\"display: table-cell;\">id&nbsp;=&nbsp;'p1594', <span id=\"p1626\" style=\"cursor: pointer;\">&hellip;)</span></div></div><div class=\"p1625\" style=\"display: none;\"><div style=\"display: table-cell;\"></div><div style=\"display: table-cell;\">align&nbsp;=&nbsp;'auto',</div></div><div class=\"p1625\" style=\"display: none;\"><div style=\"display: table-cell;\"></div><div style=\"display: table-cell;\">aspect_ratio&nbsp;=&nbsp;None,</div></div><div class=\"p1625\" style=\"display: none;\"><div style=\"display: table-cell;\"></div><div style=\"display: table-cell;\">children&nbsp;=&nbsp;[(figure(id='p1359', ...), 0, 0), (figure(id='p1456', ...), 1, 0), (figure(id='p1315', ...), 2, 0)],</div></div><div class=\"p1625\" style=\"display: none;\"><div style=\"display: table-cell;\"></div><div style=\"display: table-cell;\">cols&nbsp;=&nbsp;None,</div></div><div class=\"p1625\" style=\"display: none;\"><div style=\"display: table-cell;\"></div><div style=\"display: table-cell;\">context_menu&nbsp;=&nbsp;None,</div></div><div class=\"p1625\" style=\"display: none;\"><div style=\"display: table-cell;\"></div><div style=\"display: table-cell;\">css_classes&nbsp;=&nbsp;[],</div></div><div class=\"p1625\" style=\"display: none;\"><div style=\"display: table-cell;\"></div><div style=\"display: table-cell;\">disabled&nbsp;=&nbsp;False,</div></div><div class=\"p1625\" style=\"display: none;\"><div style=\"display: table-cell;\"></div><div style=\"display: table-cell;\">flow_mode&nbsp;=&nbsp;'block',</div></div><div class=\"p1625\" style=\"display: none;\"><div style=\"display: table-cell;\"></div><div style=\"display: table-cell;\">height&nbsp;=&nbsp;None,</div></div><div class=\"p1625\" style=\"display: none;\"><div style=\"display: table-cell;\"></div><div style=\"display: table-cell;\">height_policy&nbsp;=&nbsp;'auto',</div></div><div class=\"p1625\" style=\"display: none;\"><div style=\"display: table-cell;\"></div><div style=\"display: table-cell;\">js_event_callbacks&nbsp;=&nbsp;{},</div></div><div class=\"p1625\" style=\"display: none;\"><div style=\"display: table-cell;\"></div><div style=\"display: table-cell;\">js_property_callbacks&nbsp;=&nbsp;{},</div></div><div class=\"p1625\" style=\"display: none;\"><div style=\"display: table-cell;\"></div><div style=\"display: table-cell;\">margin&nbsp;=&nbsp;None,</div></div><div class=\"p1625\" style=\"display: none;\"><div style=\"display: table-cell;\"></div><div style=\"display: table-cell;\">max_height&nbsp;=&nbsp;None,</div></div><div class=\"p1625\" style=\"display: none;\"><div style=\"display: table-cell;\"></div><div style=\"display: table-cell;\">max_width&nbsp;=&nbsp;None,</div></div><div class=\"p1625\" style=\"display: none;\"><div style=\"display: table-cell;\"></div><div style=\"display: table-cell;\">min_height&nbsp;=&nbsp;None,</div></div><div class=\"p1625\" style=\"display: none;\"><div style=\"display: table-cell;\"></div><div style=\"display: table-cell;\">min_width&nbsp;=&nbsp;None,</div></div><div class=\"p1625\" style=\"display: none;\"><div style=\"display: table-cell;\"></div><div style=\"display: table-cell;\">name&nbsp;=&nbsp;None,</div></div><div class=\"p1625\" style=\"display: none;\"><div style=\"display: table-cell;\"></div><div style=\"display: table-cell;\">resizable&nbsp;=&nbsp;False,</div></div><div class=\"p1625\" style=\"display: none;\"><div style=\"display: table-cell;\"></div><div style=\"display: table-cell;\">rows&nbsp;=&nbsp;None,</div></div><div class=\"p1625\" style=\"display: none;\"><div style=\"display: table-cell;\"></div><div style=\"display: table-cell;\">sizing_mode&nbsp;=&nbsp;'stretch_width',</div></div><div class=\"p1625\" style=\"display: none;\"><div style=\"display: table-cell;\"></div><div style=\"display: table-cell;\">spacing&nbsp;=&nbsp;0,</div></div><div class=\"p1625\" style=\"display: none;\"><div style=\"display: table-cell;\"></div><div style=\"display: table-cell;\">styles&nbsp;=&nbsp;{},</div></div><div class=\"p1625\" style=\"display: none;\"><div style=\"display: table-cell;\"></div><div style=\"display: table-cell;\">stylesheets&nbsp;=&nbsp;[],</div></div><div class=\"p1625\" style=\"display: none;\"><div style=\"display: table-cell;\"></div><div style=\"display: table-cell;\">subscribed_events&nbsp;=&nbsp;PropertyValueSet(),</div></div><div class=\"p1625\" style=\"display: none;\"><div style=\"display: table-cell;\"></div><div style=\"display: table-cell;\">syncable&nbsp;=&nbsp;True,</div></div><div class=\"p1625\" style=\"display: none;\"><div style=\"display: table-cell;\"></div><div style=\"display: table-cell;\">tags&nbsp;=&nbsp;[],</div></div><div class=\"p1625\" style=\"display: none;\"><div style=\"display: table-cell;\"></div><div style=\"display: table-cell;\">toolbar&nbsp;=&nbsp;Toolbar(id='p1593', ...),</div></div><div class=\"p1625\" style=\"display: none;\"><div style=\"display: table-cell;\"></div><div style=\"display: table-cell;\">toolbar_location&nbsp;=&nbsp;'right',</div></div><div class=\"p1625\" style=\"display: none;\"><div style=\"display: table-cell;\"></div><div style=\"display: table-cell;\">visible&nbsp;=&nbsp;True,</div></div><div class=\"p1625\" style=\"display: none;\"><div style=\"display: table-cell;\"></div><div style=\"display: table-cell;\">width&nbsp;=&nbsp;None,</div></div><div class=\"p1625\" style=\"display: none;\"><div style=\"display: table-cell;\"></div><div style=\"display: table-cell;\">width_policy&nbsp;=&nbsp;'auto')</div></div></div>\n",
       "<script>\n",
       "(function() {\n",
       "  let expanded = false;\n",
       "  const ellipsis = document.getElementById(\"p1626\");\n",
       "  ellipsis.addEventListener(\"click\", function() {\n",
       "    const rows = document.getElementsByClassName(\"p1625\");\n",
       "    for (let i = 0; i < rows.length; i++) {\n",
       "      const el = rows[i];\n",
       "      el.style.display = expanded ? \"none\" : \"table-row\";\n",
       "    }\n",
       "    ellipsis.innerHTML = expanded ? \"&hellip;)\" : \"&lsaquo;&lsaquo;&lsaquo;\";\n",
       "    expanded = !expanded;\n",
       "  });\n",
       "})();\n",
       "</script>\n"
      ],
      "text/plain": [
       "GridPlot(id='p1594', ...)"
      ]
     },
     "execution_count": 26,
     "metadata": {},
     "output_type": "execute_result"
    }
   ],
   "source": [
    "bt.plot(filename=\"./plots/EMA_Crossover(10,20)_NIFTY_100.png\", plot_volume=False, plot_pl=True)"
   ]
  }
 ],
 "metadata": {
  "kernelspec": {
   "display_name": "Python 3",
   "language": "python",
   "name": "python3"
  },
  "language_info": {
   "codemirror_mode": {
    "name": "ipython",
    "version": 3
   },
   "file_extension": ".py",
   "mimetype": "text/x-python",
   "name": "python",
   "nbconvert_exporter": "python",
   "pygments_lexer": "ipython3",
   "version": "3.11.8"
  }
 },
 "nbformat": 4,
 "nbformat_minor": 2
}
