{
 "cells": [
  {
   "cell_type": "code",
   "execution_count": 1,
   "metadata": {},
   "outputs": [],
   "source": [
    "import pandas as pd\n",
    "import yfinance as yf\n",
    "import pandas_ta as ta \n",
    "import numpy as np\n",
    "from backtesting import Backtest, Strategy"
   ]
  },
  {
   "cell_type": "markdown",
   "metadata": {},
   "source": [
    "## Testing Bollinger Bands Long-Only Strategy with Stop-Loss On NIFTY50 Data\n",
    "\n",
    "### Strategy Overview:\n",
    "\n",
    "The **Bollinger Bands Long-Only Strategy** aims to take advantage of price volatility by using Bollinger Bands as a signal for potential price reversals. This strategy is designed to enter long positions when the price crosses below the lower Bollinger Band and exit the position when the price crosses above the upper Bollinger Band. Additionally, the strategy incorporates a configurable stop-loss mechanism to protect against downside risk by closing trades if the price drops by a specified percentage.\n",
    "\n",
    "### Bollinger Bands:\n",
    "\n",
    "- **Bollinger Bands** are volatility bands placed above and below a moving average of the asset's price.\n",
    "\n",
    "- **Upper Band**: Calculated as the moving average plus a multiple (usually 2) of the standard deviation.\n",
    "\n",
    "- **Lower Band**: Calculated as the moving average minus a multiple (usually 2) of the standard deviation.\n",
    "\n",
    "### Key Features:\n",
    "\n",
    "1\\. **Long-Only Positions**:\n",
    "\n",
    "   - The strategy is long-only, meaning it does not short the asset.\n",
    "\n",
    "   - It buys when the price crosses below the lower Bollinger Band, indicating the asset is potentially oversold.\n",
    "\n",
    "2\\. **Exit Strategy**:\n",
    "\n",
    "   - The strategy sells (closes the long position) when the price crosses above the upper Bollinger Band, indicating that the asset may be overbought.\n",
    "\n",
    "3\\. **Stop-Loss Protection**:\n",
    "\n",
    "   - The strategy includes a stop-loss that is triggered if the price falls below a certain percentage from the entry price.\n",
    "\n",
    "   - The stop-loss can be customized, and the default is set to 5% below the entry price. This ensures that losses are limited in case of a downward trend after entering the position.\n",
    "\n",
    "### Parameters:\n",
    "\n",
    "- **Bollinger Band Period**: 20 periods (default).\n",
    "\n",
    "- **Bollinger Band Multiplier**: 2 (default), which defines the width of the bands based on standard deviation.\n",
    "\n",
    "- **Stop-Loss Percentage**: Configurable (default is 5%).\n",
    "\n",
    "### Trade Execution:\n",
    "\n",
    "- **Buy Signal**: A buy order is executed when the price crosses below the lower Bollinger Band, indicating a potential reversal from oversold conditions.\n",
    "\n",
    "- **Sell Signal**: A sell order is executed when the price crosses above the upper Bollinger Band, signaling that the asset may be overbought and is likely to reverse downward.\n",
    "\n",
    "- **Stop-Loss**: If the price falls by a specified percentage from the entry price (e.g., 5%), the position is closed to minimize losses.\n",
    "\n",
    "### Example Logic:\n",
    "\n",
    "1\\. **Buy** when the price is below the lower Bollinger Band.\n",
    "\n",
    "2\\. **Sell** when the price is above the upper Bollinger Band or when the stop-loss is triggered (e.g., the price falls 5% below the buy price).\n"
   ]
  },
  {
   "cell_type": "code",
   "execution_count": 2,
   "metadata": {},
   "outputs": [
    {
     "name": "stderr",
     "output_type": "stream",
     "text": [
      "[*********************100%***********************]  1 of 1 completed\n"
     ]
    }
   ],
   "source": [
    "df = pd.DataFrame(yf.download(\"^NSEI\", start=\"2014-07-01\", end=\"2024-07-01\"))"
   ]
  },
  {
   "cell_type": "code",
   "execution_count": 3,
   "metadata": {},
   "outputs": [
    {
     "data": {
      "text/html": [
       "<div>\n",
       "<style scoped>\n",
       "    .dataframe tbody tr th:only-of-type {\n",
       "        vertical-align: middle;\n",
       "    }\n",
       "\n",
       "    .dataframe tbody tr th {\n",
       "        vertical-align: top;\n",
       "    }\n",
       "\n",
       "    .dataframe thead th {\n",
       "        text-align: right;\n",
       "    }\n",
       "</style>\n",
       "<table border=\"1\" class=\"dataframe\">\n",
       "  <thead>\n",
       "    <tr style=\"text-align: right;\">\n",
       "      <th></th>\n",
       "      <th>Open</th>\n",
       "      <th>High</th>\n",
       "      <th>Low</th>\n",
       "      <th>Close</th>\n",
       "      <th>Adj Close</th>\n",
       "      <th>Volume</th>\n",
       "    </tr>\n",
       "    <tr>\n",
       "      <th>Date</th>\n",
       "      <th></th>\n",
       "      <th></th>\n",
       "      <th></th>\n",
       "      <th></th>\n",
       "      <th></th>\n",
       "      <th></th>\n",
       "    </tr>\n",
       "  </thead>\n",
       "  <tbody>\n",
       "    <tr>\n",
       "      <th>2024-06-24</th>\n",
       "      <td>23382.300781</td>\n",
       "      <td>23558.099609</td>\n",
       "      <td>23350.000000</td>\n",
       "      <td>23537.849609</td>\n",
       "      <td>23537.849609</td>\n",
       "      <td>239400</td>\n",
       "    </tr>\n",
       "    <tr>\n",
       "      <th>2024-06-25</th>\n",
       "      <td>23577.099609</td>\n",
       "      <td>23754.150391</td>\n",
       "      <td>23562.050781</td>\n",
       "      <td>23721.300781</td>\n",
       "      <td>23721.300781</td>\n",
       "      <td>298100</td>\n",
       "    </tr>\n",
       "    <tr>\n",
       "      <th>2024-06-26</th>\n",
       "      <td>23723.099609</td>\n",
       "      <td>23889.900391</td>\n",
       "      <td>23670.449219</td>\n",
       "      <td>23868.800781</td>\n",
       "      <td>23868.800781</td>\n",
       "      <td>287800</td>\n",
       "    </tr>\n",
       "    <tr>\n",
       "      <th>2024-06-27</th>\n",
       "      <td>23881.550781</td>\n",
       "      <td>24087.449219</td>\n",
       "      <td>23805.400391</td>\n",
       "      <td>24044.500000</td>\n",
       "      <td>24044.500000</td>\n",
       "      <td>515200</td>\n",
       "    </tr>\n",
       "    <tr>\n",
       "      <th>2024-06-28</th>\n",
       "      <td>24085.900391</td>\n",
       "      <td>24174.000000</td>\n",
       "      <td>23985.800781</td>\n",
       "      <td>24010.599609</td>\n",
       "      <td>24010.599609</td>\n",
       "      <td>354800</td>\n",
       "    </tr>\n",
       "  </tbody>\n",
       "</table>\n",
       "</div>"
      ],
      "text/plain": [
       "                    Open          High           Low         Close  \\\n",
       "Date                                                                 \n",
       "2024-06-24  23382.300781  23558.099609  23350.000000  23537.849609   \n",
       "2024-06-25  23577.099609  23754.150391  23562.050781  23721.300781   \n",
       "2024-06-26  23723.099609  23889.900391  23670.449219  23868.800781   \n",
       "2024-06-27  23881.550781  24087.449219  23805.400391  24044.500000   \n",
       "2024-06-28  24085.900391  24174.000000  23985.800781  24010.599609   \n",
       "\n",
       "               Adj Close  Volume  \n",
       "Date                              \n",
       "2024-06-24  23537.849609  239400  \n",
       "2024-06-25  23721.300781  298100  \n",
       "2024-06-26  23868.800781  287800  \n",
       "2024-06-27  24044.500000  515200  \n",
       "2024-06-28  24010.599609  354800  "
      ]
     },
     "execution_count": 3,
     "metadata": {},
     "output_type": "execute_result"
    }
   ],
   "source": [
    "df.tail()"
   ]
  },
  {
   "cell_type": "code",
   "execution_count": 4,
   "metadata": {},
   "outputs": [
    {
     "data": {
      "text/plain": [
       "False"
      ]
     },
     "execution_count": 4,
     "metadata": {},
     "output_type": "execute_result"
    }
   ],
   "source": [
    "df.isnull().sum().any()"
   ]
  },
  {
   "cell_type": "code",
   "execution_count": 127,
   "metadata": {},
   "outputs": [],
   "source": [
    "def BollingerBands(data, period=20, multiplier=2):\n",
    "    close = data.Close\n",
    "    ma = np.convolve(close, np.ones(period)/period, mode='valid')  # Moving average\n",
    "    std = np.array([np.std(close[i-period:i]) for i in range(period, len(close)+1)])  # Std dev\n",
    "    upper_band = ma + (multiplier * std)\n",
    "    lower_band = ma - (multiplier * std)\n",
    "\n",
    "    # Padding the result to match the length of the original data\n",
    "    pad_length = len(close) - len(ma)\n",
    "    upper_band = np.concatenate([np.full(pad_length, np.nan), upper_band])\n",
    "    lower_band = np.concatenate([np.full(pad_length, np.nan), lower_band])\n",
    "    \n",
    "    return upper_band, lower_band"
   ]
  },
  {
   "cell_type": "code",
   "execution_count": 131,
   "metadata": {},
   "outputs": [],
   "source": [
    "class BollingerBandsStrategy(Strategy):\n",
    "    # Initialize the strategy, defining the indicator\n",
    "    def init(self):\n",
    "        self.upper_band, self.lower_band = self.I(BollingerBands, self.data, 20, 2)\n",
    "\n",
    "    # Define the strategy logic\n",
    "    def next(self):\n",
    "        # Buy when the price crosses below the lower Bollinger Band\n",
    "        if self.data.Close[-1] < self.lower_band[-1]:\n",
    "            # do not buy if we already have a position(long)\n",
    "            if not self.position:\n",
    "                stop_loss_price = self.data.Close[-1] * 0.95\n",
    "                self.buy(sl=stop_loss_price)\n",
    "            \n",
    "        # Sell when the price crosses above the upper Bollinger Band\n",
    "        elif self.data.Close[-1] > self.upper_band[-1]:\n",
    "            # close all long positions\n",
    "            self.position.close()\n",
    "            "
   ]
  },
  {
   "cell_type": "code",
   "execution_count": 132,
   "metadata": {},
   "outputs": [],
   "source": [
    "bt = Backtest(df, BollingerBandsStrategy, cash=100000, commission=0.002)"
   ]
  },
  {
   "cell_type": "code",
   "execution_count": 133,
   "metadata": {},
   "outputs": [
    {
     "data": {
      "text/plain": [
       "Start                     2015-01-02 00:00:00\n",
       "End                       2024-09-27 00:00:00\n",
       "Duration                   3556 days 00:00:00\n",
       "Exposure Time [%]                   47.161937\n",
       "Equity Final [$]                167166.239897\n",
       "Equity Peak [$]                 167166.239897\n",
       "Return [%]                           67.16624\n",
       "Buy & Hold Return [%]              211.823054\n",
       "Return (Ann.) [%]                     5.55279\n",
       "Volatility (Ann.) [%]               12.681344\n",
       "Sharpe Ratio                         0.437871\n",
       "Sortino Ratio                         0.66046\n",
       "Calmar Ratio                         0.192843\n",
       "Max. Drawdown [%]                  -28.794336\n",
       "Avg. Drawdown [%]                   -2.587937\n",
       "Max. Drawdown Duration      873 days 00:00:00\n",
       "Avg. Drawdown Duration       58 days 00:00:00\n",
       "# Trades                                   37\n",
       "Win Rate [%]                        56.756757\n",
       "Best Trade [%]                       25.64667\n",
       "Worst Trade [%]                     -6.726391\n",
       "Avg. Trade [%]                       1.519291\n",
       "Max. Trade Duration         126 days 00:00:00\n",
       "Avg. Trade Duration          45 days 00:00:00\n",
       "Profit Factor                        1.842632\n",
       "Expectancy [%]                       1.754963\n",
       "SQN                                  1.473064\n",
       "_strategy                 BollingerBandsSt...\n",
       "_equity_curve                             ...\n",
       "_trades                       Size  EntryB...\n",
       "dtype: object"
      ]
     },
     "execution_count": 133,
     "metadata": {},
     "output_type": "execute_result"
    }
   ],
   "source": [
    "bt.run()"
   ]
  },
  {
   "cell_type": "code",
   "execution_count": 136,
   "metadata": {},
   "outputs": [
    {
     "name": "stderr",
     "output_type": "stream",
     "text": [
      "BokehDeprecationWarning: Passing lists of formats for DatetimeTickFormatter scales was deprecated in Bokeh 3.0. Configure a single string format for each scale\n",
      "c:\\Users\\tejas\\anaconda3\\Lib\\site-packages\\backtesting\\_plotting.py:250: UserWarning: DatetimeFormatter scales now only accept a single format. Using the first provided: '%d %b'\n",
      "  formatter=DatetimeTickFormatter(days=['%d %b', '%a %d'],\n",
      "BokehDeprecationWarning: Passing lists of formats for DatetimeTickFormatter scales was deprecated in Bokeh 3.0. Configure a single string format for each scale\n",
      "c:\\Users\\tejas\\anaconda3\\Lib\\site-packages\\backtesting\\_plotting.py:250: UserWarning: DatetimeFormatter scales now only accept a single format. Using the first provided: '%m/%Y'\n",
      "  formatter=DatetimeTickFormatter(days=['%d %b', '%a %d'],\n",
      "c:\\Users\\tejas\\anaconda3\\Lib\\site-packages\\backtesting\\_plotting.py:659: UserWarning: found multiple competing values for 'toolbar.active_drag' property; using the latest value\n",
      "  fig = gridplot(\n",
      "c:\\Users\\tejas\\anaconda3\\Lib\\site-packages\\backtesting\\_plotting.py:659: UserWarning: found multiple competing values for 'toolbar.active_scroll' property; using the latest value\n",
      "  fig = gridplot(\n"
     ]
    },
    {
     "data": {
      "text/html": [
       "<div style=\"display: table;\"><div style=\"display: table-row;\"><div style=\"display: table-cell;\"><b title=\"bokeh.models.plots.GridPlot\">GridPlot</b>(</div><div style=\"display: table-cell;\">id&nbsp;=&nbsp;'p7530', <span id=\"p7562\" style=\"cursor: pointer;\">&hellip;)</span></div></div><div class=\"p7561\" style=\"display: none;\"><div style=\"display: table-cell;\"></div><div style=\"display: table-cell;\">align&nbsp;=&nbsp;'auto',</div></div><div class=\"p7561\" style=\"display: none;\"><div style=\"display: table-cell;\"></div><div style=\"display: table-cell;\">aspect_ratio&nbsp;=&nbsp;None,</div></div><div class=\"p7561\" style=\"display: none;\"><div style=\"display: table-cell;\"></div><div style=\"display: table-cell;\">children&nbsp;=&nbsp;[(figure(id='p7296', ...), 0, 0), (figure(id='p7393', ...), 1, 0), (figure(id='p7252', ...), 2, 0)],</div></div><div class=\"p7561\" style=\"display: none;\"><div style=\"display: table-cell;\"></div><div style=\"display: table-cell;\">cols&nbsp;=&nbsp;None,</div></div><div class=\"p7561\" style=\"display: none;\"><div style=\"display: table-cell;\"></div><div style=\"display: table-cell;\">context_menu&nbsp;=&nbsp;None,</div></div><div class=\"p7561\" style=\"display: none;\"><div style=\"display: table-cell;\"></div><div style=\"display: table-cell;\">css_classes&nbsp;=&nbsp;[],</div></div><div class=\"p7561\" style=\"display: none;\"><div style=\"display: table-cell;\"></div><div style=\"display: table-cell;\">disabled&nbsp;=&nbsp;False,</div></div><div class=\"p7561\" style=\"display: none;\"><div style=\"display: table-cell;\"></div><div style=\"display: table-cell;\">flow_mode&nbsp;=&nbsp;'block',</div></div><div class=\"p7561\" style=\"display: none;\"><div style=\"display: table-cell;\"></div><div style=\"display: table-cell;\">height&nbsp;=&nbsp;None,</div></div><div class=\"p7561\" style=\"display: none;\"><div style=\"display: table-cell;\"></div><div style=\"display: table-cell;\">height_policy&nbsp;=&nbsp;'auto',</div></div><div class=\"p7561\" style=\"display: none;\"><div style=\"display: table-cell;\"></div><div style=\"display: table-cell;\">js_event_callbacks&nbsp;=&nbsp;{},</div></div><div class=\"p7561\" style=\"display: none;\"><div style=\"display: table-cell;\"></div><div style=\"display: table-cell;\">js_property_callbacks&nbsp;=&nbsp;{},</div></div><div class=\"p7561\" style=\"display: none;\"><div style=\"display: table-cell;\"></div><div style=\"display: table-cell;\">margin&nbsp;=&nbsp;None,</div></div><div class=\"p7561\" style=\"display: none;\"><div style=\"display: table-cell;\"></div><div style=\"display: table-cell;\">max_height&nbsp;=&nbsp;None,</div></div><div class=\"p7561\" style=\"display: none;\"><div style=\"display: table-cell;\"></div><div style=\"display: table-cell;\">max_width&nbsp;=&nbsp;None,</div></div><div class=\"p7561\" style=\"display: none;\"><div style=\"display: table-cell;\"></div><div style=\"display: table-cell;\">min_height&nbsp;=&nbsp;None,</div></div><div class=\"p7561\" style=\"display: none;\"><div style=\"display: table-cell;\"></div><div style=\"display: table-cell;\">min_width&nbsp;=&nbsp;None,</div></div><div class=\"p7561\" style=\"display: none;\"><div style=\"display: table-cell;\"></div><div style=\"display: table-cell;\">name&nbsp;=&nbsp;None,</div></div><div class=\"p7561\" style=\"display: none;\"><div style=\"display: table-cell;\"></div><div style=\"display: table-cell;\">resizable&nbsp;=&nbsp;False,</div></div><div class=\"p7561\" style=\"display: none;\"><div style=\"display: table-cell;\"></div><div style=\"display: table-cell;\">rows&nbsp;=&nbsp;None,</div></div><div class=\"p7561\" style=\"display: none;\"><div style=\"display: table-cell;\"></div><div style=\"display: table-cell;\">sizing_mode&nbsp;=&nbsp;'stretch_width',</div></div><div class=\"p7561\" style=\"display: none;\"><div style=\"display: table-cell;\"></div><div style=\"display: table-cell;\">spacing&nbsp;=&nbsp;0,</div></div><div class=\"p7561\" style=\"display: none;\"><div style=\"display: table-cell;\"></div><div style=\"display: table-cell;\">styles&nbsp;=&nbsp;{},</div></div><div class=\"p7561\" style=\"display: none;\"><div style=\"display: table-cell;\"></div><div style=\"display: table-cell;\">stylesheets&nbsp;=&nbsp;[],</div></div><div class=\"p7561\" style=\"display: none;\"><div style=\"display: table-cell;\"></div><div style=\"display: table-cell;\">subscribed_events&nbsp;=&nbsp;PropertyValueSet(),</div></div><div class=\"p7561\" style=\"display: none;\"><div style=\"display: table-cell;\"></div><div style=\"display: table-cell;\">syncable&nbsp;=&nbsp;True,</div></div><div class=\"p7561\" style=\"display: none;\"><div style=\"display: table-cell;\"></div><div style=\"display: table-cell;\">tags&nbsp;=&nbsp;[],</div></div><div class=\"p7561\" style=\"display: none;\"><div style=\"display: table-cell;\"></div><div style=\"display: table-cell;\">toolbar&nbsp;=&nbsp;Toolbar(id='p7529', ...),</div></div><div class=\"p7561\" style=\"display: none;\"><div style=\"display: table-cell;\"></div><div style=\"display: table-cell;\">toolbar_location&nbsp;=&nbsp;'right',</div></div><div class=\"p7561\" style=\"display: none;\"><div style=\"display: table-cell;\"></div><div style=\"display: table-cell;\">visible&nbsp;=&nbsp;True,</div></div><div class=\"p7561\" style=\"display: none;\"><div style=\"display: table-cell;\"></div><div style=\"display: table-cell;\">width&nbsp;=&nbsp;None,</div></div><div class=\"p7561\" style=\"display: none;\"><div style=\"display: table-cell;\"></div><div style=\"display: table-cell;\">width_policy&nbsp;=&nbsp;'auto')</div></div></div>\n",
       "<script>\n",
       "(function() {\n",
       "  let expanded = false;\n",
       "  const ellipsis = document.getElementById(\"p7562\");\n",
       "  ellipsis.addEventListener(\"click\", function() {\n",
       "    const rows = document.getElementsByClassName(\"p7561\");\n",
       "    for (let i = 0; i < rows.length; i++) {\n",
       "      const el = rows[i];\n",
       "      el.style.display = expanded ? \"none\" : \"table-row\";\n",
       "    }\n",
       "    ellipsis.innerHTML = expanded ? \"&hellip;)\" : \"&lsaquo;&lsaquo;&lsaquo;\";\n",
       "    expanded = !expanded;\n",
       "  });\n",
       "})();\n",
       "</script>\n"
      ],
      "text/plain": [
       "GridPlot(id='p7530', ...)"
      ]
     },
     "execution_count": 136,
     "metadata": {},
     "output_type": "execute_result"
    }
   ],
   "source": [
    "bt.plot(filename=\"./plots/BollingerBandsSimple(20,2)_NIFTY_50.png\", plot_volume=False, plot_pl=True)"
   ]
  },
  {
   "cell_type": "markdown",
   "metadata": {},
   "source": []
  }
 ],
 "metadata": {
  "kernelspec": {
   "display_name": "Python 3",
   "language": "python",
   "name": "python3"
  },
  "language_info": {
   "codemirror_mode": {
    "name": "ipython",
    "version": 3
   },
   "file_extension": ".py",
   "mimetype": "text/x-python",
   "name": "python",
   "nbconvert_exporter": "python",
   "pygments_lexer": "ipython3",
   "version": "3.11.8"
  }
 },
 "nbformat": 4,
 "nbformat_minor": 2
}
