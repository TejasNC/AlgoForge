{
 "cells": [
  {
   "cell_type": "markdown",
   "metadata": {},
   "source": [
    "The strategies like Bollinger Band CrossOver, RSI Based Momentum Trading and MA Crossover have key shortcommings, especially in a Bull Market that India is currently in: \n",
    "\n",
    "- **RSI** is better at identifying reversals rather than continuation patterns. In bull markets, RSI might suggest corrections that never materialize, early exits\n",
    "- **RSI** is unreliable in volatile markets\n",
    "- **Bollinger Bands** work well only in sideways markets and cause early exits in breakout\n",
    "-  **Bollinger Bands** are better at capturing **short-term volatility** and **mean-reverting conditions**. In strong trending markets (like a bull market), the bands widen, but this doesn’t necessarily indicate when the trend will end\n",
    "- In volatile markets, the price action happens in a very short time and since RSI and MA are lagging indicators, they miss majority of the action"
   ]
  },
  {
   "cell_type": "code",
   "execution_count": null,
   "metadata": {},
   "outputs": [],
   "source": []
  },
  {
   "cell_type": "markdown",
   "metadata": {},
   "source": [
    "## Fetching Past 20Year NIFTY-50 Data"
   ]
  },
  {
   "cell_type": "code",
   "execution_count": 17,
   "metadata": {},
   "outputs": [],
   "source": [
    "import yfinance as yf\n",
    "import pandas as pd\n",
    "import numpy as np\n",
    "import talib as ta\n",
    "from ta.volatility import BollingerBands\n",
    "from backtesting import Backtest, Strategy\n",
    "from backtesting.lib import crossover"
   ]
  },
  {
   "cell_type": "code",
   "execution_count": 6,
   "metadata": {},
   "outputs": [
    {
     "name": "stderr",
     "output_type": "stream",
     "text": [
      "[*********************100%***********************]  1 of 1 completed\n"
     ]
    }
   ],
   "source": [
    "df = pd.DataFrame(yf.download(\"^NSEI\", start=\"2004-07-01\", end=\"2024-07-01\"))"
   ]
  },
  {
   "cell_type": "code",
   "execution_count": 4,
   "metadata": {},
   "outputs": [
    {
     "data": {
      "text/html": [
       "<div>\n",
       "<style scoped>\n",
       "    .dataframe tbody tr th:only-of-type {\n",
       "        vertical-align: middle;\n",
       "    }\n",
       "\n",
       "    .dataframe tbody tr th {\n",
       "        vertical-align: top;\n",
       "    }\n",
       "\n",
       "    .dataframe thead th {\n",
       "        text-align: right;\n",
       "    }\n",
       "</style>\n",
       "<table border=\"1\" class=\"dataframe\">\n",
       "  <thead>\n",
       "    <tr style=\"text-align: right;\">\n",
       "      <th></th>\n",
       "      <th>Open</th>\n",
       "      <th>High</th>\n",
       "      <th>Low</th>\n",
       "      <th>Close</th>\n",
       "      <th>Adj Close</th>\n",
       "      <th>Volume</th>\n",
       "    </tr>\n",
       "    <tr>\n",
       "      <th>Date</th>\n",
       "      <th></th>\n",
       "      <th></th>\n",
       "      <th></th>\n",
       "      <th></th>\n",
       "      <th></th>\n",
       "      <th></th>\n",
       "    </tr>\n",
       "  </thead>\n",
       "  <tbody>\n",
       "    <tr>\n",
       "      <th>2007-09-17</th>\n",
       "      <td>4518.450195</td>\n",
       "      <td>4549.049805</td>\n",
       "      <td>4482.850098</td>\n",
       "      <td>4494.649902</td>\n",
       "      <td>4494.649902</td>\n",
       "      <td>0</td>\n",
       "    </tr>\n",
       "    <tr>\n",
       "      <th>2007-09-18</th>\n",
       "      <td>4494.100098</td>\n",
       "      <td>4551.799805</td>\n",
       "      <td>4481.549805</td>\n",
       "      <td>4546.200195</td>\n",
       "      <td>4546.200195</td>\n",
       "      <td>0</td>\n",
       "    </tr>\n",
       "    <tr>\n",
       "      <th>2007-09-19</th>\n",
       "      <td>4550.250000</td>\n",
       "      <td>4739.000000</td>\n",
       "      <td>4550.250000</td>\n",
       "      <td>4732.350098</td>\n",
       "      <td>4732.350098</td>\n",
       "      <td>0</td>\n",
       "    </tr>\n",
       "    <tr>\n",
       "      <th>2007-09-20</th>\n",
       "      <td>4734.850098</td>\n",
       "      <td>4760.850098</td>\n",
       "      <td>4721.149902</td>\n",
       "      <td>4747.549805</td>\n",
       "      <td>4747.549805</td>\n",
       "      <td>0</td>\n",
       "    </tr>\n",
       "    <tr>\n",
       "      <th>2007-09-21</th>\n",
       "      <td>4752.950195</td>\n",
       "      <td>4855.700195</td>\n",
       "      <td>4733.700195</td>\n",
       "      <td>4837.549805</td>\n",
       "      <td>4837.549805</td>\n",
       "      <td>0</td>\n",
       "    </tr>\n",
       "  </tbody>\n",
       "</table>\n",
       "</div>"
      ],
      "text/plain": [
       "                   Open         High          Low        Close    Adj Close  \\\n",
       "Date                                                                          \n",
       "2007-09-17  4518.450195  4549.049805  4482.850098  4494.649902  4494.649902   \n",
       "2007-09-18  4494.100098  4551.799805  4481.549805  4546.200195  4546.200195   \n",
       "2007-09-19  4550.250000  4739.000000  4550.250000  4732.350098  4732.350098   \n",
       "2007-09-20  4734.850098  4760.850098  4721.149902  4747.549805  4747.549805   \n",
       "2007-09-21  4752.950195  4855.700195  4733.700195  4837.549805  4837.549805   \n",
       "\n",
       "            Volume  \n",
       "Date                \n",
       "2007-09-17       0  \n",
       "2007-09-18       0  \n",
       "2007-09-19       0  \n",
       "2007-09-20       0  \n",
       "2007-09-21       0  "
      ]
     },
     "execution_count": 4,
     "metadata": {},
     "output_type": "execute_result"
    }
   ],
   "source": [
    "df.head()"
   ]
  },
  {
   "cell_type": "code",
   "execution_count": 5,
   "metadata": {},
   "outputs": [
    {
     "data": {
      "text/html": [
       "<div>\n",
       "<style scoped>\n",
       "    .dataframe tbody tr th:only-of-type {\n",
       "        vertical-align: middle;\n",
       "    }\n",
       "\n",
       "    .dataframe tbody tr th {\n",
       "        vertical-align: top;\n",
       "    }\n",
       "\n",
       "    .dataframe thead th {\n",
       "        text-align: right;\n",
       "    }\n",
       "</style>\n",
       "<table border=\"1\" class=\"dataframe\">\n",
       "  <thead>\n",
       "    <tr style=\"text-align: right;\">\n",
       "      <th></th>\n",
       "      <th>Open</th>\n",
       "      <th>High</th>\n",
       "      <th>Low</th>\n",
       "      <th>Close</th>\n",
       "      <th>Adj Close</th>\n",
       "      <th>Volume</th>\n",
       "    </tr>\n",
       "    <tr>\n",
       "      <th>Date</th>\n",
       "      <th></th>\n",
       "      <th></th>\n",
       "      <th></th>\n",
       "      <th></th>\n",
       "      <th></th>\n",
       "      <th></th>\n",
       "    </tr>\n",
       "  </thead>\n",
       "  <tbody>\n",
       "    <tr>\n",
       "      <th>2024-06-24</th>\n",
       "      <td>23382.300781</td>\n",
       "      <td>23558.099609</td>\n",
       "      <td>23350.000000</td>\n",
       "      <td>23537.849609</td>\n",
       "      <td>23537.849609</td>\n",
       "      <td>239400</td>\n",
       "    </tr>\n",
       "    <tr>\n",
       "      <th>2024-06-25</th>\n",
       "      <td>23577.099609</td>\n",
       "      <td>23754.150391</td>\n",
       "      <td>23562.050781</td>\n",
       "      <td>23721.300781</td>\n",
       "      <td>23721.300781</td>\n",
       "      <td>298100</td>\n",
       "    </tr>\n",
       "    <tr>\n",
       "      <th>2024-06-26</th>\n",
       "      <td>23723.099609</td>\n",
       "      <td>23889.900391</td>\n",
       "      <td>23670.449219</td>\n",
       "      <td>23868.800781</td>\n",
       "      <td>23868.800781</td>\n",
       "      <td>287800</td>\n",
       "    </tr>\n",
       "    <tr>\n",
       "      <th>2024-06-27</th>\n",
       "      <td>23881.550781</td>\n",
       "      <td>24087.449219</td>\n",
       "      <td>23805.400391</td>\n",
       "      <td>24044.500000</td>\n",
       "      <td>24044.500000</td>\n",
       "      <td>515200</td>\n",
       "    </tr>\n",
       "    <tr>\n",
       "      <th>2024-06-28</th>\n",
       "      <td>24085.900391</td>\n",
       "      <td>24174.000000</td>\n",
       "      <td>23985.800781</td>\n",
       "      <td>24010.599609</td>\n",
       "      <td>24010.599609</td>\n",
       "      <td>354800</td>\n",
       "    </tr>\n",
       "  </tbody>\n",
       "</table>\n",
       "</div>"
      ],
      "text/plain": [
       "                    Open          High           Low         Close  \\\n",
       "Date                                                                 \n",
       "2024-06-24  23382.300781  23558.099609  23350.000000  23537.849609   \n",
       "2024-06-25  23577.099609  23754.150391  23562.050781  23721.300781   \n",
       "2024-06-26  23723.099609  23889.900391  23670.449219  23868.800781   \n",
       "2024-06-27  23881.550781  24087.449219  23805.400391  24044.500000   \n",
       "2024-06-28  24085.900391  24174.000000  23985.800781  24010.599609   \n",
       "\n",
       "               Adj Close  Volume  \n",
       "Date                              \n",
       "2024-06-24  23537.849609  239400  \n",
       "2024-06-25  23721.300781  298100  \n",
       "2024-06-26  23868.800781  287800  \n",
       "2024-06-27  24044.500000  515200  \n",
       "2024-06-28  24010.599609  354800  "
      ]
     },
     "execution_count": 5,
     "metadata": {},
     "output_type": "execute_result"
    }
   ],
   "source": [
    "df.tail()"
   ]
  },
  {
   "cell_type": "code",
   "execution_count": 7,
   "metadata": {},
   "outputs": [
    {
     "data": {
      "text/plain": [
       "False"
      ]
     },
     "execution_count": 7,
     "metadata": {},
     "output_type": "execute_result"
    }
   ],
   "source": [
    "df.isnull().sum().any()"
   ]
  },
  {
   "cell_type": "markdown",
   "metadata": {},
   "source": [
    "## The Strategy"
   ]
  },
  {
   "cell_type": "markdown",
   "metadata": {},
   "source": [
    "## Implementing Strategy "
   ]
  },
  {
   "cell_type": "code",
   "execution_count": 12,
   "metadata": {},
   "outputs": [],
   "source": [
    "def EMA(data, window):\n",
    "    return ta.ema(data['Close'], window)"
   ]
  },
  {
   "cell_type": "code",
   "execution_count": 11,
   "metadata": {},
   "outputs": [],
   "source": [
    "def RSI(data, window, _=None, __=None, ___=None):\n",
    "    return ta.rsi(data['Close'], window)"
   ]
  },
  {
   "cell_type": "code",
   "execution_count": 14,
   "metadata": {},
   "outputs": [],
   "source": [
    "def BBAND_L(data, _,  column_name, window,  std):\n",
    "    return BollingerBands(close=data[column_name], window=window, window_dev=std).bollinger_lband()"
   ]
  },
  {
   "cell_type": "code",
   "execution_count": 15,
   "metadata": {},
   "outputs": [],
   "source": [
    "def BBAND_H(data, _, column_name, window,  std):\n",
    "\treturn BollingerBands(close=data[column_name], window=window, window_dev=std).bollinger_hband()"
   ]
  },
  {
   "cell_type": "code",
   "execution_count": 16,
   "metadata": {},
   "outputs": [],
   "source": [
    "def calculate_trend(values):\n",
    "    if len(values==0):\n",
    "        return 0, 0\n",
    "    x = np.arange(1, len(values)+1, 1)\n",
    "    y = np.array(values)\n",
    "    \n",
    "    x_new = x[~np.isnan(y)]\n",
    "    y_new = y[~np.isnan(y)]\n",
    "    \n",
    "    m,c = np.polyfit(x_new, y_new, 1)\n",
    "    \n",
    "    return m, c"
   ]
  },
  {
   "cell_type": "code",
   "execution_count": null,
   "metadata": {},
   "outputs": [],
   "source": [
    "class MyStrategy(Strategy):\n",
    "    \n",
    "    long_ema_period = 365\n",
    "    rsi_period = 14\n",
    "    rsi_lookback = 5\n",
    "    bbands_period = 20\n",
    "\n",
    "    bbands_std1 = 2.6\n",
    "    bbands_std2 = 1.6\n",
    "\tbbands_std3 = 2.0\n",
    " \n",
    "\tlast_trade_index = 0\n",
    " \tlast_trade_price = 0\n",
    "\t\n",
    "\ttake_profit = 0\n",
    "\tstop_loss = 10\n",
    "  \n",
    "\tlong_hold = 0\n",
    " \n",
    "\ti = 0\n",
    "    \n",
    "    def init(self):\n",
    "        super().init()\n",
    "        \n",
    "        # Indicators\n",
    "        self.ema1 = self.I(EMA, self.data.df, self.long_ema_period)\n",
    "        self.bollinger_close_lband = self.I(BBAND_L, self.data.df, None, 'Close', self.bbands_period, self.bbands_std1)\n",
    "        self.bollinger_close_hband = self.I(BBAND_H, self.data.df,None, 'Close', self.bbands_period, self.bbands_std2)\n",
    "        \n",
    "        # Signals\n",
    "        self.data.df['RSI'] = RSI(df, self.rsi_period, None, None, None)\n",
    "        self.rsi_bollinger_bands = self.I(lambda *args: (RSI(*args), BBAND_L(*args), BBAND_H(*args)), self.data.df, self.rsi_period, \"RSI\", self.rsi_lookback, self.bbands_period, self.bbands_std3)\n",
    "        \n",
    "    def next(self):\n",
    "        \n",
    "        self.i += 1\n",
    "        \n",
    "        if (self.i < self.long_ema_period):\n",
    "\t\t\treturn\n",
    "\n",
    "\t\tlong_entry_signals = 0\n",
    "\t\tlong_exit_signals = 0\n",
    "  \n",
    "\t\t# Long Term Trend Filter\n",
    "\t\tema1_lb = self.ema1[-20:]\n",
    "\t\tema1_m, _ = calculate_trend(ema1_lb)\n",
    "  \n",
    "\t\tif ema1_m >= 0.01:\n",
    "\t\t\tlong_entry_signals += 1\n",
    "   \n",
    "\t\t# Long Entry\n",
    "\t\tif self.data.Close[-1] >= self.bollinger_close_lband[-1] and self.data.Close[-2] < self.bollinger_close_lband[-2]:\n",
    "\t\t\tlong_entry_signals += 1\n",
    "   \n",
    "\t\trsi = self.rsi_bollinger_bands\n",
    "\t\trsi_lb = rsi[(-1*self.rsi_lookback):]\n",
    "\t\tbollinger_rsi_lband = self.rsi_bollinger_bands[1]\n",
    "\t\tbollinger_rsi_lb = bollinger_rsi_lg\n",
    "        \n",
    "        \n",
    "        \n"
   ]
  }
 ],
 "metadata": {
  "kernelspec": {
   "display_name": "Python 3",
   "language": "python",
   "name": "python3"
  },
  "language_info": {
   "codemirror_mode": {
    "name": "ipython",
    "version": 3
   },
   "file_extension": ".py",
   "mimetype": "text/x-python",
   "name": "python",
   "nbconvert_exporter": "python",
   "pygments_lexer": "ipython3",
   "version": "3.11.8"
  }
 },
 "nbformat": 4,
 "nbformat_minor": 2
}
