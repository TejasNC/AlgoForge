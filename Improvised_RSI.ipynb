{
 "cells": [
  {
   "cell_type": "code",
   "execution_count": 82,
   "metadata": {},
   "outputs": [],
   "source": [
    "import pandas as pd\n",
    "import yfinance as yf\n",
    "import pandas_ta as ta\n",
    "import numpy as np\n",
    "from backtesting import Backtest, Strategy"
   ]
  },
  {
   "cell_type": "markdown",
   "metadata": {},
   "source": [
    "## Using the past 10 Year Historical Nifty50 Data"
   ]
  },
  {
   "cell_type": "code",
   "execution_count": 83,
   "metadata": {},
   "outputs": [
    {
     "name": "stderr",
     "output_type": "stream",
     "text": [
      "[*********************100%***********************]  1 of 1 completed\n"
     ]
    }
   ],
   "source": [
    "df = pd.DataFrame(yf.download(\"^NSEI\", start=\"2014-07-01\", end=\"2024-07-01\"))"
   ]
  },
  {
   "cell_type": "code",
   "execution_count": 84,
   "metadata": {},
   "outputs": [
    {
     "data": {
      "text/html": [
       "<div>\n",
       "<style scoped>\n",
       "    .dataframe tbody tr th:only-of-type {\n",
       "        vertical-align: middle;\n",
       "    }\n",
       "\n",
       "    .dataframe tbody tr th {\n",
       "        vertical-align: top;\n",
       "    }\n",
       "\n",
       "    .dataframe thead th {\n",
       "        text-align: right;\n",
       "    }\n",
       "</style>\n",
       "<table border=\"1\" class=\"dataframe\">\n",
       "  <thead>\n",
       "    <tr style=\"text-align: right;\">\n",
       "      <th></th>\n",
       "      <th>Open</th>\n",
       "      <th>High</th>\n",
       "      <th>Low</th>\n",
       "      <th>Close</th>\n",
       "      <th>Adj Close</th>\n",
       "      <th>Volume</th>\n",
       "    </tr>\n",
       "    <tr>\n",
       "      <th>Date</th>\n",
       "      <th></th>\n",
       "      <th></th>\n",
       "      <th></th>\n",
       "      <th></th>\n",
       "      <th></th>\n",
       "      <th></th>\n",
       "    </tr>\n",
       "  </thead>\n",
       "  <tbody>\n",
       "    <tr>\n",
       "      <th>2024-06-24</th>\n",
       "      <td>23382.300781</td>\n",
       "      <td>23558.099609</td>\n",
       "      <td>23350.000000</td>\n",
       "      <td>23537.849609</td>\n",
       "      <td>23537.849609</td>\n",
       "      <td>239400</td>\n",
       "    </tr>\n",
       "    <tr>\n",
       "      <th>2024-06-25</th>\n",
       "      <td>23577.099609</td>\n",
       "      <td>23754.150391</td>\n",
       "      <td>23562.050781</td>\n",
       "      <td>23721.300781</td>\n",
       "      <td>23721.300781</td>\n",
       "      <td>298100</td>\n",
       "    </tr>\n",
       "    <tr>\n",
       "      <th>2024-06-26</th>\n",
       "      <td>23723.099609</td>\n",
       "      <td>23889.900391</td>\n",
       "      <td>23670.449219</td>\n",
       "      <td>23868.800781</td>\n",
       "      <td>23868.800781</td>\n",
       "      <td>287800</td>\n",
       "    </tr>\n",
       "    <tr>\n",
       "      <th>2024-06-27</th>\n",
       "      <td>23881.550781</td>\n",
       "      <td>24087.449219</td>\n",
       "      <td>23805.400391</td>\n",
       "      <td>24044.500000</td>\n",
       "      <td>24044.500000</td>\n",
       "      <td>515200</td>\n",
       "    </tr>\n",
       "    <tr>\n",
       "      <th>2024-06-28</th>\n",
       "      <td>24085.900391</td>\n",
       "      <td>24174.000000</td>\n",
       "      <td>23985.800781</td>\n",
       "      <td>24010.599609</td>\n",
       "      <td>24010.599609</td>\n",
       "      <td>354800</td>\n",
       "    </tr>\n",
       "  </tbody>\n",
       "</table>\n",
       "</div>"
      ],
      "text/plain": [
       "                    Open          High           Low         Close  \\\n",
       "Date                                                                 \n",
       "2024-06-24  23382.300781  23558.099609  23350.000000  23537.849609   \n",
       "2024-06-25  23577.099609  23754.150391  23562.050781  23721.300781   \n",
       "2024-06-26  23723.099609  23889.900391  23670.449219  23868.800781   \n",
       "2024-06-27  23881.550781  24087.449219  23805.400391  24044.500000   \n",
       "2024-06-28  24085.900391  24174.000000  23985.800781  24010.599609   \n",
       "\n",
       "               Adj Close  Volume  \n",
       "Date                              \n",
       "2024-06-24  23537.849609  239400  \n",
       "2024-06-25  23721.300781  298100  \n",
       "2024-06-26  23868.800781  287800  \n",
       "2024-06-27  24044.500000  515200  \n",
       "2024-06-28  24010.599609  354800  "
      ]
     },
     "execution_count": 84,
     "metadata": {},
     "output_type": "execute_result"
    }
   ],
   "source": [
    "df.tail()"
   ]
  },
  {
   "cell_type": "code",
   "execution_count": 85,
   "metadata": {},
   "outputs": [
    {
     "data": {
      "text/plain": [
       "False"
      ]
     },
     "execution_count": 85,
     "metadata": {},
     "output_type": "execute_result"
    }
   ],
   "source": [
    "df.isnull().sum().any()"
   ]
  },
  {
   "cell_type": "markdown",
   "metadata": {},
   "source": [
    "RSI (Relative Strength Index) Strategy\n",
    "--------------------------------------\n",
    "\n",
    "### Strategy Overview:\n",
    "\n",
    "The **RSI (Relative Strength Index) Strategy** is designed to identify overbought and oversold conditions in a market using the RSI indicator. The RSI is a momentum oscillator that measures the speed and change of price movements and fluctuates between 0 and 100. This strategy focuses on **buying** when the market is considered **oversold** and **selling** when it is **overbought**, which often indicates a potential reversal in price.\n",
    "\n",
    "### RSI Indicator:\n",
    "\n",
    "-   **RSI Calculation**: The RSI is calculated using a 14-period look-back window (default setting), although this period can be adjusted for different market conditions.\n",
    "-   **RSI Levels**:\n",
    "    -   **RSI < 30**: The market is considered **oversold**, potentially signaling a buying opportunity.\n",
    "    -   **RSI > 70**: The market is considered **overbought**, potentially signaling a selling opportunity.\n",
    "\n",
    "### Key Features:\n",
    "\n",
    "1.  **Buy Signal**:\n",
    "\n",
    "    -   The strategy opens a long position when the RSI crosses **30 from below**, indicating that the market is in oversold territory and a bullish reversal may follow.\n",
    "2.  **Sell Signal**:\n",
    "\n",
    "    -   The strategy closes the long position when the RSI crosses **70 from above**, indicating that the market is overbought and may reverse downward.\n",
    "3.  **No Shorting**:\n",
    "\n",
    "    -   This is a **long-only strategy**, meaning it does not engage in short-selling even when the market is overbought.\n",
    "\n",
    "4.  **Stop Loss**\n",
    "\n",
    "\t- Keep the stop loss at 5%\n",
    "\t\n",
    "### Parameters:\n",
    "\n",
    "-   **RSI Period**: 14 periods (default).\n",
    "-   **RSI Overbought Level**: 70 (default).\n",
    "-   **RSI Oversold Level**: 30 (default).\n",
    "\n",
    "### Trade Execution:\n",
    "\n",
    "-   **Buy**: When the RSI crosses below 30.\n",
    "-   **Sell**: When the RSI crosses above 70.\n",
    "\n",
    "### Customization:\n",
    "\n",
    "-   You can adjust the **RSI period** to suit different market conditions. For example:\n",
    "    -   A **shorter period** (e.g., 7) will make the RSI more sensitive to price changes, capturing quicker signals in volatile markets.\n",
    "    -   A **longer period** (e.g., 21) will smooth out the indicator, making it less sensitive and more appropriate for slower-moving markets.\n",
    "\n",
    "- \tThe **Lower and Upper Threshold*** fo 30 and 70 can be tweaked to find the best parameters.\n",
    "\n",
    "### Advantages:\n",
    "\n",
    "-   **Simplicity**: The RSI strategy is straightforward and easy to understand, making it a great starting point for traders.\n",
    "-   **Momentum-based**: It captures potential price reversals by measuring momentum.\n",
    "-   **Customizable**: RSI periods and levels can be adjusted to match different market environments.\n",
    "\n",
    "### Example Logic:\n",
    "\n",
    "1.  **Buy** when the RSI crosses below 30, indicating oversold conditions.\n",
    "2.  **Sell** when the RSI crosses above 70, indicating overbought conditions.\n",
    "## Example Chart\n",
    "\n",
    "| Date       | Price | RSI  | Signal         |\n",
    "|------------|-------|------|----------------|\n",
    "| 01-Jan-24  | 100   | 65   | No Action      |\n",
    "| 15-Jan-24  | 90    | 28   | **Buy Signal** |\n",
    "| 30-Jan-24  | 105   | 75   | **Sell Signal**|\n",
    "\n",
    "---"
   ]
  },
  {
   "cell_type": "code",
   "execution_count": 86,
   "metadata": {},
   "outputs": [],
   "source": [
    "from backtesting.lib import crossover"
   ]
  },
  {
   "cell_type": "code",
   "execution_count": 87,
   "metadata": {},
   "outputs": [],
   "source": [
    "def RSI_Indicator(data, n):\n",
    "    gain = pd.Series(data).diff()\n",
    "    loss = gain.copy()\n",
    "    gain[gain < 0] = 0\t#negative gains will be treated as 0\n",
    "    loss[loss > 0] = 0 \t#positive gains will be treated as 0\n",
    "    rs = gain.ewm(n).mean() / loss.abs().ewm(n).mean()\n",
    "    return 100 - 100 / (1 + rs)"
   ]
  },
  {
   "cell_type": "code",
   "execution_count": 88,
   "metadata": {},
   "outputs": [],
   "source": [
    "class RSI(Strategy):\n",
    "    lower_limit=30\n",
    "    upper_limit=70\n",
    "    length=14\n",
    "    def init(self):\n",
    "        self.rsi = self.I(RSI_Indicator, self.data.Close , self.length)\n",
    "    def next(self):\n",
    "        # Close position when RSI crosses above the upper limit (70)\n",
    "        if crossover(self.upper_limit, self.rsi, ):\n",
    "            if self.position:\n",
    "                self.position.close()\n",
    "\n",
    "        # Buy when RSI crosses below the lower limit (30)\n",
    "        elif crossover( self.rsi, self.lower_limit):\n",
    "            if not self.position:\n",
    "                stop_loss_price = self.data.Close[-1] * 0.85  # Stop loss at 85% of the current price\n",
    "                self.buy(sl=stop_loss_price)"
   ]
  },
  {
   "cell_type": "code",
   "execution_count": 89,
   "metadata": {},
   "outputs": [
    {
     "name": "stderr",
     "output_type": "stream",
     "text": [
      "C:\\Users\\tejas\\AppData\\Local\\Temp\\ipykernel_19040\\2947909750.py:1: UserWarning: Some prices are larger than initial cash value. Note that fractional trading is not supported. If you want to trade Bitcoin, increase initial cash, or trade μBTC or satoshis instead (GH-134).\n",
      "  bt = Backtest(df, RSI, commission=.002, cash=10000)\n",
      "BokehDeprecationWarning: Passing lists of formats for DatetimeTickFormatter scales was deprecated in Bokeh 3.0. Configure a single string format for each scale\n",
      "c:\\Users\\tejas\\anaconda3\\Lib\\site-packages\\backtesting\\_plotting.py:250: UserWarning: DatetimeFormatter scales now only accept a single format. Using the first provided: '%d %b'\n",
      "  formatter=DatetimeTickFormatter(days=['%d %b', '%a %d'],\n",
      "BokehDeprecationWarning: Passing lists of formats for DatetimeTickFormatter scales was deprecated in Bokeh 3.0. Configure a single string format for each scale\n",
      "c:\\Users\\tejas\\anaconda3\\Lib\\site-packages\\backtesting\\_plotting.py:250: UserWarning: DatetimeFormatter scales now only accept a single format. Using the first provided: '%m/%Y'\n",
      "  formatter=DatetimeTickFormatter(days=['%d %b', '%a %d'],\n",
      "c:\\Users\\tejas\\anaconda3\\Lib\\site-packages\\backtesting\\_plotting.py:659: UserWarning: found multiple competing values for 'toolbar.active_drag' property; using the latest value\n",
      "  fig = gridplot(\n",
      "c:\\Users\\tejas\\anaconda3\\Lib\\site-packages\\backtesting\\_plotting.py:659: UserWarning: found multiple competing values for 'toolbar.active_scroll' property; using the latest value\n",
      "  fig = gridplot(\n"
     ]
    },
    {
     "data": {
      "text/html": [
       "<div style=\"display: table;\"><div style=\"display: table-row;\"><div style=\"display: table-cell;\"><b title=\"bokeh.models.plots.GridPlot\">GridPlot</b>(</div><div style=\"display: table-cell;\">id&nbsp;=&nbsp;'p8361', <span id=\"p8392\" style=\"cursor: pointer;\">&hellip;)</span></div></div><div class=\"p8391\" style=\"display: none;\"><div style=\"display: table-cell;\"></div><div style=\"display: table-cell;\">align&nbsp;=&nbsp;'auto',</div></div><div class=\"p8391\" style=\"display: none;\"><div style=\"display: table-cell;\"></div><div style=\"display: table-cell;\">aspect_ratio&nbsp;=&nbsp;None,</div></div><div class=\"p8391\" style=\"display: none;\"><div style=\"display: table-cell;\"></div><div style=\"display: table-cell;\">children&nbsp;=&nbsp;[(figure(id='p8101', ...), 0, 0), (figure(id='p8198', ...), 1, 0), (figure(id='p8057', ...), 2, 0), (figure(id='p8304', ...), 3, 0)],</div></div><div class=\"p8391\" style=\"display: none;\"><div style=\"display: table-cell;\"></div><div style=\"display: table-cell;\">cols&nbsp;=&nbsp;None,</div></div><div class=\"p8391\" style=\"display: none;\"><div style=\"display: table-cell;\"></div><div style=\"display: table-cell;\">context_menu&nbsp;=&nbsp;None,</div></div><div class=\"p8391\" style=\"display: none;\"><div style=\"display: table-cell;\"></div><div style=\"display: table-cell;\">css_classes&nbsp;=&nbsp;[],</div></div><div class=\"p8391\" style=\"display: none;\"><div style=\"display: table-cell;\"></div><div style=\"display: table-cell;\">disabled&nbsp;=&nbsp;False,</div></div><div class=\"p8391\" style=\"display: none;\"><div style=\"display: table-cell;\"></div><div style=\"display: table-cell;\">flow_mode&nbsp;=&nbsp;'block',</div></div><div class=\"p8391\" style=\"display: none;\"><div style=\"display: table-cell;\"></div><div style=\"display: table-cell;\">height&nbsp;=&nbsp;None,</div></div><div class=\"p8391\" style=\"display: none;\"><div style=\"display: table-cell;\"></div><div style=\"display: table-cell;\">height_policy&nbsp;=&nbsp;'auto',</div></div><div class=\"p8391\" style=\"display: none;\"><div style=\"display: table-cell;\"></div><div style=\"display: table-cell;\">js_event_callbacks&nbsp;=&nbsp;{},</div></div><div class=\"p8391\" style=\"display: none;\"><div style=\"display: table-cell;\"></div><div style=\"display: table-cell;\">js_property_callbacks&nbsp;=&nbsp;{},</div></div><div class=\"p8391\" style=\"display: none;\"><div style=\"display: table-cell;\"></div><div style=\"display: table-cell;\">margin&nbsp;=&nbsp;None,</div></div><div class=\"p8391\" style=\"display: none;\"><div style=\"display: table-cell;\"></div><div style=\"display: table-cell;\">max_height&nbsp;=&nbsp;None,</div></div><div class=\"p8391\" style=\"display: none;\"><div style=\"display: table-cell;\"></div><div style=\"display: table-cell;\">max_width&nbsp;=&nbsp;None,</div></div><div class=\"p8391\" style=\"display: none;\"><div style=\"display: table-cell;\"></div><div style=\"display: table-cell;\">min_height&nbsp;=&nbsp;None,</div></div><div class=\"p8391\" style=\"display: none;\"><div style=\"display: table-cell;\"></div><div style=\"display: table-cell;\">min_width&nbsp;=&nbsp;None,</div></div><div class=\"p8391\" style=\"display: none;\"><div style=\"display: table-cell;\"></div><div style=\"display: table-cell;\">name&nbsp;=&nbsp;None,</div></div><div class=\"p8391\" style=\"display: none;\"><div style=\"display: table-cell;\"></div><div style=\"display: table-cell;\">resizable&nbsp;=&nbsp;False,</div></div><div class=\"p8391\" style=\"display: none;\"><div style=\"display: table-cell;\"></div><div style=\"display: table-cell;\">rows&nbsp;=&nbsp;None,</div></div><div class=\"p8391\" style=\"display: none;\"><div style=\"display: table-cell;\"></div><div style=\"display: table-cell;\">sizing_mode&nbsp;=&nbsp;'stretch_width',</div></div><div class=\"p8391\" style=\"display: none;\"><div style=\"display: table-cell;\"></div><div style=\"display: table-cell;\">spacing&nbsp;=&nbsp;0,</div></div><div class=\"p8391\" style=\"display: none;\"><div style=\"display: table-cell;\"></div><div style=\"display: table-cell;\">styles&nbsp;=&nbsp;{},</div></div><div class=\"p8391\" style=\"display: none;\"><div style=\"display: table-cell;\"></div><div style=\"display: table-cell;\">stylesheets&nbsp;=&nbsp;[],</div></div><div class=\"p8391\" style=\"display: none;\"><div style=\"display: table-cell;\"></div><div style=\"display: table-cell;\">subscribed_events&nbsp;=&nbsp;PropertyValueSet(),</div></div><div class=\"p8391\" style=\"display: none;\"><div style=\"display: table-cell;\"></div><div style=\"display: table-cell;\">syncable&nbsp;=&nbsp;True,</div></div><div class=\"p8391\" style=\"display: none;\"><div style=\"display: table-cell;\"></div><div style=\"display: table-cell;\">tags&nbsp;=&nbsp;[],</div></div><div class=\"p8391\" style=\"display: none;\"><div style=\"display: table-cell;\"></div><div style=\"display: table-cell;\">toolbar&nbsp;=&nbsp;Toolbar(id='p8360', ...),</div></div><div class=\"p8391\" style=\"display: none;\"><div style=\"display: table-cell;\"></div><div style=\"display: table-cell;\">toolbar_location&nbsp;=&nbsp;'right',</div></div><div class=\"p8391\" style=\"display: none;\"><div style=\"display: table-cell;\"></div><div style=\"display: table-cell;\">visible&nbsp;=&nbsp;True,</div></div><div class=\"p8391\" style=\"display: none;\"><div style=\"display: table-cell;\"></div><div style=\"display: table-cell;\">width&nbsp;=&nbsp;None,</div></div><div class=\"p8391\" style=\"display: none;\"><div style=\"display: table-cell;\"></div><div style=\"display: table-cell;\">width_policy&nbsp;=&nbsp;'auto')</div></div></div>\n",
       "<script>\n",
       "(function() {\n",
       "  let expanded = false;\n",
       "  const ellipsis = document.getElementById(\"p8392\");\n",
       "  ellipsis.addEventListener(\"click\", function() {\n",
       "    const rows = document.getElementsByClassName(\"p8391\");\n",
       "    for (let i = 0; i < rows.length; i++) {\n",
       "      const el = rows[i];\n",
       "      el.style.display = expanded ? \"none\" : \"table-row\";\n",
       "    }\n",
       "    ellipsis.innerHTML = expanded ? \"&hellip;)\" : \"&lsaquo;&lsaquo;&lsaquo;\";\n",
       "    expanded = !expanded;\n",
       "  });\n",
       "})();\n",
       "</script>\n"
      ],
      "text/plain": [
       "GridPlot(id='p8361', ...)"
      ]
     },
     "execution_count": 89,
     "metadata": {},
     "output_type": "execute_result"
    }
   ],
   "source": [
    "bt = Backtest(df, RSI, commission=.002, cash=10000)\n",
    "bt.run()\n",
    "bt.plot(filename='./plots/RSI(30,70,14).py',plot_volume=False, plot_pl=True)"
   ]
  },
  {
   "cell_type": "markdown",
   "metadata": {},
   "source": [
    "Let us view the results for different window lengths"
   ]
  },
  {
   "cell_type": "code",
   "execution_count": 90,
   "metadata": {},
   "outputs": [],
   "source": [
    "custom_params = dict(lower_limit=30, upper_limit=70)"
   ]
  },
  {
   "cell_type": "code",
   "execution_count": 91,
   "metadata": {},
   "outputs": [
    {
     "data": {
      "application/vnd.jupyter.widget-view+json": {
       "model_id": "c29e80dad9f5415d9190556d22300b79",
       "version_major": 2,
       "version_minor": 0
      },
      "text/plain": [
       "  0%|          | 0/28 [00:00<?, ?it/s]"
      ]
     },
     "metadata": {},
     "output_type": "display_data"
    }
   ],
   "source": [
    "stats, heatmap = bt.optimize(\n",
    "\tlength = range(10,150,5),\n",
    "\tmaximize='# Trades',\n",
    "\treturn_heatmap=True,\n",
    "\t**custom_params\n",
    ")"
   ]
  },
  {
   "cell_type": "code",
   "execution_count": 92,
   "metadata": {},
   "outputs": [
    {
     "data": {
      "text/plain": [
       "length  lower_limit  upper_limit\n",
       "10      30           70             7.0\n",
       "15      30           70             6.0\n",
       "20      30           70             5.0\n",
       "25      30           70             2.0\n",
       "30      30           70             2.0\n",
       "40      30           70             2.0\n",
       "45      30           70             2.0\n",
       "60      30           70             1.0\n",
       "55      30           70             1.0\n",
       "50      30           70             1.0\n",
       "35      30           70             1.0\n",
       "105     30           70             0.0\n",
       "140     30           70             0.0\n",
       "135     30           70             0.0\n",
       "130     30           70             0.0\n",
       "125     30           70             0.0\n",
       "120     30           70             0.0\n",
       "115     30           70             0.0\n",
       "110     30           70             0.0\n",
       "80      30           70             0.0\n",
       "100     30           70             0.0\n",
       "95      30           70             0.0\n",
       "90      30           70             0.0\n",
       "85      30           70             0.0\n",
       "75      30           70             0.0\n",
       "70      30           70             0.0\n",
       "65      30           70             0.0\n",
       "145     30           70             0.0\n",
       "Name: # Trades, dtype: float64"
      ]
     },
     "execution_count": 92,
     "metadata": {},
     "output_type": "execute_result"
    }
   ],
   "source": [
    "heatmap.fillna(0).sort_values(ascending=False)"
   ]
  },
  {
   "cell_type": "markdown",
   "metadata": {},
   "source": [
    "Naturally, the maximum trades are achieved at the lowest value of window length because this makes the indicator more sensitive."
   ]
  },
  {
   "cell_type": "code",
   "execution_count": 93,
   "metadata": {},
   "outputs": [],
   "source": [
    "custom_params = dict(length=10, upper_limit=70, lower_limit=30)"
   ]
  },
  {
   "cell_type": "code",
   "execution_count": 94,
   "metadata": {},
   "outputs": [
    {
     "name": "stderr",
     "output_type": "stream",
     "text": [
      "C:\\Users\\tejas\\AppData\\Local\\Temp\\ipykernel_19040\\4090335733.py:1: UserWarning: Some prices are larger than initial cash value. Note that fractional trading is not supported. If you want to trade Bitcoin, increase initial cash, or trade μBTC or satoshis instead (GH-134).\n",
      "  bt = Backtest(df, RSI, commission=.002, cash=10000)\n",
      "BokehDeprecationWarning: Passing lists of formats for DatetimeTickFormatter scales was deprecated in Bokeh 3.0. Configure a single string format for each scale\n",
      "c:\\Users\\tejas\\anaconda3\\Lib\\site-packages\\backtesting\\_plotting.py:250: UserWarning: DatetimeFormatter scales now only accept a single format. Using the first provided: '%d %b'\n",
      "  formatter=DatetimeTickFormatter(days=['%d %b', '%a %d'],\n",
      "BokehDeprecationWarning: Passing lists of formats for DatetimeTickFormatter scales was deprecated in Bokeh 3.0. Configure a single string format for each scale\n",
      "c:\\Users\\tejas\\anaconda3\\Lib\\site-packages\\backtesting\\_plotting.py:250: UserWarning: DatetimeFormatter scales now only accept a single format. Using the first provided: '%m/%Y'\n",
      "  formatter=DatetimeTickFormatter(days=['%d %b', '%a %d'],\n",
      "c:\\Users\\tejas\\anaconda3\\Lib\\site-packages\\backtesting\\_plotting.py:659: UserWarning: found multiple competing values for 'toolbar.active_drag' property; using the latest value\n",
      "  fig = gridplot(\n",
      "c:\\Users\\tejas\\anaconda3\\Lib\\site-packages\\backtesting\\_plotting.py:659: UserWarning: found multiple competing values for 'toolbar.active_scroll' property; using the latest value\n",
      "  fig = gridplot(\n"
     ]
    },
    {
     "name": "stdout",
     "output_type": "stream",
     "text": [
      "Start                     2014-07-01 00:00:00\n",
      "End                       2024-06-28 00:00:00\n",
      "Duration                   3650 days 00:00:00\n",
      "Exposure Time [%]                   15.980432\n",
      "Equity Final [$]                 11849.644235\n",
      "Equity Peak [$]                  12093.293649\n",
      "Return [%]                          18.496442\n",
      "Buy & Hold Return [%]              214.493025\n",
      "Return (Ann.) [%]                    1.758769\n",
      "Volatility (Ann.) [%]                6.984441\n",
      "Sharpe Ratio                         0.251812\n",
      "Sortino Ratio                        0.372679\n",
      "Calmar Ratio                         0.103815\n",
      "Max. Drawdown [%]                  -16.941433\n",
      "Avg. Drawdown [%]                   -4.087525\n",
      "Max. Drawdown Duration     1844 days 00:00:00\n",
      "Avg. Drawdown Duration      399 days 00:00:00\n",
      "# Trades                                    7\n",
      "Win Rate [%]                        71.428571\n",
      "Best Trade [%]                      18.950356\n",
      "Worst Trade [%]                    -15.520814\n",
      "Avg. Trade [%]                       2.632081\n",
      "Max. Trade Duration         316 days 00:00:00\n",
      "Avg. Trade Duration          83 days 00:00:00\n",
      "Profit Factor                        2.251561\n",
      "Expectancy [%]                       3.095199\n",
      "SQN                                  0.790384\n",
      "_strategy                 RSI(length=10,up...\n",
      "_equity_curve                             ...\n",
      "_trades                      Size  EntryBa...\n",
      "dtype: object\n"
     ]
    }
   ],
   "source": [
    "bt = Backtest(df, RSI, commission=.002, cash=10000)\n",
    "output = bt.run(**custom_params)\n",
    "bt.plot(filename='./plots/RSI(30,70,10).py',plot_volume=False, plot_pl=True)\n",
    "print(output)"
   ]
  },
  {
   "cell_type": "markdown",
   "metadata": {},
   "source": [
    "### Now let us test the strategy for different lower and upper thresholds"
   ]
  },
  {
   "cell_type": "code",
   "execution_count": 95,
   "metadata": {},
   "outputs": [
    {
     "name": "stderr",
     "output_type": "stream",
     "text": [
      "C:\\Users\\tejas\\AppData\\Local\\Temp\\ipykernel_19040\\1563289814.py:2: UserWarning: Some prices are larger than initial cash value. Note that fractional trading is not supported. If you want to trade Bitcoin, increase initial cash, or trade μBTC or satoshis instead (GH-134).\n",
      "  bt = Backtest(df, RSI, commission=.002, cash=10000)\n",
      "BokehDeprecationWarning: Passing lists of formats for DatetimeTickFormatter scales was deprecated in Bokeh 3.0. Configure a single string format for each scale\n",
      "c:\\Users\\tejas\\anaconda3\\Lib\\site-packages\\backtesting\\_plotting.py:250: UserWarning: DatetimeFormatter scales now only accept a single format. Using the first provided: '%d %b'\n",
      "  formatter=DatetimeTickFormatter(days=['%d %b', '%a %d'],\n",
      "BokehDeprecationWarning: Passing lists of formats for DatetimeTickFormatter scales was deprecated in Bokeh 3.0. Configure a single string format for each scale\n",
      "c:\\Users\\tejas\\anaconda3\\Lib\\site-packages\\backtesting\\_plotting.py:250: UserWarning: DatetimeFormatter scales now only accept a single format. Using the first provided: '%m/%Y'\n",
      "  formatter=DatetimeTickFormatter(days=['%d %b', '%a %d'],\n",
      "c:\\Users\\tejas\\anaconda3\\Lib\\site-packages\\backtesting\\_plotting.py:659: UserWarning: found multiple competing values for 'toolbar.active_drag' property; using the latest value\n",
      "  fig = gridplot(\n",
      "c:\\Users\\tejas\\anaconda3\\Lib\\site-packages\\backtesting\\_plotting.py:659: UserWarning: found multiple competing values for 'toolbar.active_scroll' property; using the latest value\n",
      "  fig = gridplot(\n"
     ]
    },
    {
     "name": "stdout",
     "output_type": "stream",
     "text": [
      "Start                     2014-07-01 00:00:00\n",
      "End                       2024-06-28 00:00:00\n",
      "Duration                   3650 days 00:00:00\n",
      "Exposure Time [%]                   15.246637\n",
      "Equity Final [$]                 18337.202775\n",
      "Equity Peak [$]                  18522.853166\n",
      "Return [%]                          83.372028\n",
      "Buy & Hold Return [%]              214.493025\n",
      "Return (Ann.) [%]                    6.427182\n",
      "Volatility (Ann.) [%]                8.681221\n",
      "Sharpe Ratio                         0.740355\n",
      "Sortino Ratio                        1.187952\n",
      "Calmar Ratio                         0.429511\n",
      "Max. Drawdown [%]                  -14.963968\n",
      "Avg. Drawdown [%]                   -2.082211\n",
      "Max. Drawdown Duration     1016 days 00:00:00\n",
      "Avg. Drawdown Duration       37 days 00:00:00\n",
      "# Trades                                    2\n",
      "Win Rate [%]                             50.0\n",
      "Best Trade [%]                      119.10003\n",
      "Worst Trade [%]                    -11.918998\n",
      "Avg. Trade [%]                      38.919222\n",
      "Max. Trade Duration         546 days 00:00:00\n",
      "Avg. Trade Duration         274 days 00:00:00\n",
      "Profit Factor                        9.992453\n",
      "Expectancy [%]                      53.590516\n",
      "SQN                                  0.784507\n",
      "_strategy                 RSI(lower_limit=...\n",
      "_equity_curve                             ...\n",
      "_trades                      Size  EntryBa...\n",
      "dtype: object\n"
     ]
    }
   ],
   "source": [
    "custom_params = dict(lower_limit=20, upper_limit=80, length=20)\n",
    "bt = Backtest(df, RSI, commission=.002, cash=10000)\n",
    "output = bt.run(**custom_params)\n",
    "bt.plot(filename='./plots/RSI(20,80,20).py',plot_volume=False, plot_pl=True)\n",
    "print(output)"
   ]
  },
  {
   "cell_type": "markdown",
   "metadata": {},
   "source": [
    "Here, the condition for lower_threshold=20 and upper_threshold=80 is very strong number of trades executed is only 1. So it seems that the conditions do no arise very often. We can perform optimization on the values of the window_length to find the conditions for the maximum number of trades."
   ]
  },
  {
   "cell_type": "markdown",
   "metadata": {},
   "source": [
    "Optimzing for achieving the maximum number of trades with (20,80) RSI."
   ]
  },
  {
   "cell_type": "code",
   "execution_count": 96,
   "metadata": {},
   "outputs": [],
   "source": [
    "custom_params = dict(lower_limit=20, upper_limit= 80)"
   ]
  },
  {
   "cell_type": "code",
   "execution_count": 97,
   "metadata": {},
   "outputs": [
    {
     "data": {
      "application/vnd.jupyter.widget-view+json": {
       "model_id": "bda25396e91b4b66b281c54e9e78780f",
       "version_major": 2,
       "version_minor": 0
      },
      "text/plain": [
       "  0%|          | 0/28 [00:00<?, ?it/s]"
      ]
     },
     "metadata": {},
     "output_type": "display_data"
    }
   ],
   "source": [
    "stats, heatmap = bt.optimize(\n",
    "\tlength = range(10,150,5),\n",
    "\tmaximize='# Trades',\n",
    "\treturn_heatmap=True,\n",
    "\t**custom_params\n",
    ")"
   ]
  },
  {
   "cell_type": "code",
   "execution_count": 98,
   "metadata": {},
   "outputs": [],
   "source": [
    "heatmap.fillna(0,inplace=True)"
   ]
  },
  {
   "cell_type": "code",
   "execution_count": 99,
   "metadata": {},
   "outputs": [
    {
     "data": {
      "text/plain": [
       "length  lower_limit  upper_limit\n",
       "10      20           80             5.0\n",
       "15      20           80             2.0\n",
       "20      20           80             2.0\n",
       "25      20           80             1.0\n",
       "30      20           80             0.0\n",
       "35      20           80             0.0\n",
       "40      20           80             0.0\n",
       "45      20           80             0.0\n",
       "50      20           80             0.0\n",
       "55      20           80             0.0\n",
       "60      20           80             0.0\n",
       "65      20           80             0.0\n",
       "70      20           80             0.0\n",
       "75      20           80             0.0\n",
       "80      20           80             0.0\n",
       "85      20           80             0.0\n",
       "90      20           80             0.0\n",
       "95      20           80             0.0\n",
       "100     20           80             0.0\n",
       "105     20           80             0.0\n",
       "110     20           80             0.0\n",
       "115     20           80             0.0\n",
       "120     20           80             0.0\n",
       "125     20           80             0.0\n",
       "130     20           80             0.0\n",
       "135     20           80             0.0\n",
       "140     20           80             0.0\n",
       "145     20           80             0.0\n",
       "Name: # Trades, dtype: float64"
      ]
     },
     "execution_count": 99,
     "metadata": {},
     "output_type": "execute_result"
    }
   ],
   "source": [
    "heatmap"
   ]
  },
  {
   "cell_type": "markdown",
   "metadata": {},
   "source": [
    "So it is clear that reducing the window length makes the indicator more sensitive and gives us more opportunities. Evaluation of returns at window_length = 10:"
   ]
  },
  {
   "cell_type": "code",
   "execution_count": 100,
   "metadata": {},
   "outputs": [
    {
     "name": "stderr",
     "output_type": "stream",
     "text": [
      "BokehDeprecationWarning: Passing lists of formats for DatetimeTickFormatter scales was deprecated in Bokeh 3.0. Configure a single string format for each scale\n",
      "c:\\Users\\tejas\\anaconda3\\Lib\\site-packages\\backtesting\\_plotting.py:250: UserWarning: DatetimeFormatter scales now only accept a single format. Using the first provided: '%d %b'\n",
      "  formatter=DatetimeTickFormatter(days=['%d %b', '%a %d'],\n",
      "BokehDeprecationWarning: Passing lists of formats for DatetimeTickFormatter scales was deprecated in Bokeh 3.0. Configure a single string format for each scale\n",
      "c:\\Users\\tejas\\anaconda3\\Lib\\site-packages\\backtesting\\_plotting.py:250: UserWarning: DatetimeFormatter scales now only accept a single format. Using the first provided: '%m/%Y'\n",
      "  formatter=DatetimeTickFormatter(days=['%d %b', '%a %d'],\n",
      "c:\\Users\\tejas\\anaconda3\\Lib\\site-packages\\backtesting\\_plotting.py:659: UserWarning: found multiple competing values for 'toolbar.active_drag' property; using the latest value\n",
      "  fig = gridplot(\n",
      "c:\\Users\\tejas\\anaconda3\\Lib\\site-packages\\backtesting\\_plotting.py:659: UserWarning: found multiple competing values for 'toolbar.active_scroll' property; using the latest value\n",
      "  fig = gridplot(\n"
     ]
    },
    {
     "name": "stdout",
     "output_type": "stream",
     "text": [
      "Start                     2014-07-01 00:00:00\n",
      "End                       2024-06-28 00:00:00\n",
      "Duration                   3650 days 00:00:00\n",
      "Exposure Time [%]                   23.970648\n",
      "Equity Final [$]                153606.742229\n",
      "Equity Peak [$]                 154680.144572\n",
      "Return [%]                          53.606742\n",
      "Buy & Hold Return [%]              214.493025\n",
      "Return (Ann.) [%]                    4.508155\n",
      "Volatility (Ann.) [%]               10.242537\n",
      "Sharpe Ratio                          0.44014\n",
      "Sortino Ratio                        0.654043\n",
      "Calmar Ratio                         0.120137\n",
      "Max. Drawdown [%]                  -37.525232\n",
      "Avg. Drawdown [%]                   -2.326935\n",
      "Max. Drawdown Duration     1325 days 00:00:00\n",
      "Avg. Drawdown Duration       65 days 00:00:00\n",
      "# Trades                                    5\n",
      "Win Rate [%]                             60.0\n",
      "Best Trade [%]                      59.009666\n",
      "Worst Trade [%]                    -17.052946\n",
      "Avg. Trade [%]                       9.210411\n",
      "Max. Trade Duration         238 days 00:00:00\n",
      "Avg. Trade Duration         173 days 00:00:00\n",
      "Profit Factor                        3.128481\n",
      "Expectancy [%]                      12.333247\n",
      "SQN                                  0.773228\n",
      "_strategy                 RSI(lower_limit=...\n",
      "_equity_curve                             ...\n",
      "_trades                      Size  EntryBa...\n",
      "dtype: object\n"
     ]
    }
   ],
   "source": [
    "custom_params = dict(lower_limit=20, upper_limit=80, length=10)\n",
    "bt = Backtest(df, RSI, commission=.002, cash=100000)\n",
    "output = bt.run(**custom_params)\n",
    "bt.plot(filename='./plots/RSI(20,80,10).py',plot_volume=False, plot_pl=True)\n",
    "print(output)"
   ]
  },
  {
   "cell_type": "markdown",
   "metadata": {},
   "source": [
    "Here the number of trades is too less, and the exposure time is also not that good. Moreover, the avg. trade duration is 288 days, which is not great either. So this strategy is not very desireable."
   ]
  },
  {
   "cell_type": "markdown",
   "metadata": {},
   "source": [
    "## Conclusion of RSI Strategy Experiment\n",
    "\n",
    "### Overview:\n",
    "The experiment tested an **RSI (Relative Strength Index) strategy** with various configurations to evaluate its performance on stock data. The primary objective was to determine how different RSI parameters, such as the RSI period, overbought level, and oversold level, affect the strategy's profitability and risk metrics.\n",
    "\n",
    "### Default Parameters:\n",
    "- **RSI Length**: 14\n",
    "- **Overbought Level**: 70\n",
    "- **Oversold Level**: 30\n",
    "\n",
    "These default parameters were compared to custom configurations to identify optimal values based on the backtest results.\n",
    "\n",
    "### Conclusion:\n",
    "\n",
    "- **Key Takeaways**:\n",
    "  - **Longer RSI Periods** (21 vs. 14) helped smooth out noise and better identify true trend reversals. This came at a trade-off in the form of fewer number of opportunities.\n",
    "  - **Higher Overbought/Oversold Levels** (80/20) focused on capturing stronger trends, which increased the profitability and reduced exposure to unnecessary trades during choppy market conditions, but again giving us fewer opportunities.\n",
    "  \n",
    "- **Future Considerations**:\n",
    "  - More optimization can be performed by testing additional RSI periods and levels.\n",
    "  - Take-profit mechanisms could be incorporated to further protect against large drawdowns.\n",
    "  - The stop loss mechanism can be enhanced \n",
    "\n",
    "\n",
    "In summary, the RSI strategy give higher win rates but huge draw downs for some cases. The RSI Indicator is good indicator for momentum, and the contrarian reversal stratgy has high success rates for higher lenght intervals."
   ]
  }
 ],
 "metadata": {
  "kernelspec": {
   "display_name": "Python 3",
   "language": "python",
   "name": "python3"
  },
  "language_info": {
   "codemirror_mode": {
    "name": "ipython",
    "version": 3
   },
   "file_extension": ".py",
   "mimetype": "text/x-python",
   "name": "python",
   "nbconvert_exporter": "python",
   "pygments_lexer": "ipython3",
   "version": "3.11.8"
  }
 },
 "nbformat": 4,
 "nbformat_minor": 2
}
